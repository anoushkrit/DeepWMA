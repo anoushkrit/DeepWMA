{
 "cells": [
  {
   "cell_type": "markdown",
   "metadata": {},
   "source": [
    "## feat_matrix \n",
    "\n",
    "1. reduce the size of each feature matrix for each .vtp fiber bundle (basis of a percentage 10)\n",
    "2. attach label to each feat_matrix.h5 file using label mapping\n",
    "3. combine the 54 tracts mentioned in the supplementary of the paper"
   ]
  },
  {
   "cell_type": "code",
   "execution_count": 1,
   "metadata": {},
   "outputs": [],
   "source": [
    "import h5py \n",
    "import numpy as np\n",
    "import pandas as pd\n",
    "import os\n",
    "from tqdm import tqdm"
   ]
  },
  {
   "cell_type": "code",
   "execution_count": 2,
   "metadata": {},
   "outputs": [],
   "source": [
    "label_mapping_72 = pd.read_csv(\"/home/ang/Documents/GitHub/DeepWMA/labels_reference.csv\", names=[\"label_names\", \"label_array\"])\n",
    "label_mapping_72['label_names'] = label_mapping_72['label_names'].astype('|S')\n",
    "\n",
    "\n",
    "# label_mapping_72 = pd.read_csv(\"/home/ang/Documents/GitHub/DeepWMA/labels_reference_66.csv\", names=[\"label_names\", \"label_array\"])\n",
    "# label_mapping_72['label_names'] = label_mapping_72['label_names'].astype('|S')\n"
   ]
  },
  {
   "cell_type": "code",
   "execution_count": null,
   "metadata": {},
   "outputs": [],
   "source": [
    "# hdf data types\n",
    "label_hdf_dtype = np.dtype([('label_names', 'a30'), ('label_values', int), ('label_array', int)])\n",
    "feat_hdf_dtype = np.dtype([('feat', np.ndarray)])"
   ]
  },
  {
   "cell_type": "code",
   "execution_count": null,
   "metadata": {},
   "outputs": [],
   "source": [
    "subject_ID = \"779370\"\n",
    "subject_featMatrix_path = \"/media/ang/Data/unnerve_data/{}/\".format(subject_ID)\n",
    "reducing_fraction = 0.3\n",
    "streamlines = 0 "
   ]
  },
  {
   "cell_type": "markdown",
   "metadata": {},
   "source": [
    "### read featMatrix and create label\n",
    "\n",
    "1. loop over featMatrix of the patient\n",
    "2. "
   ]
  },
  {
   "cell_type": "code",
   "execution_count": null,
   "metadata": {},
   "outputs": [
    {
     "name": "stderr",
     "output_type": "stream",
     "text": [
      "  0%|          | 0/75 [00:00<?, ?it/s]"
     ]
    },
    {
     "name": "stdout",
     "output_type": "stream",
     "text": [
      "AF_left 0 <class 'int'>\n"
     ]
    },
    {
     "name": "stderr",
     "output_type": "stream",
     "text": [
      "  3%|▎         | 2/75 [00:05<03:36,  2.97s/it]"
     ]
    },
    {
     "name": "stdout",
     "output_type": "stream",
     "text": [
      "(featMatrix, featLabel) (26792, 30, 30, 3) (26792,)\n",
      "No. of Streamlines 13396\n",
      "AF_right 1 <class 'int'>\n"
     ]
    },
    {
     "name": "stderr",
     "output_type": "stream",
     "text": [
      "  3%|▎         | 2/75 [00:08<04:52,  4.01s/it]\n"
     ]
    },
    {
     "ename": "KeyboardInterrupt",
     "evalue": "",
     "output_type": "error",
     "traceback": [
      "\u001b[0;31m---------------------------------------------------------------------------\u001b[0m",
      "\u001b[0;31mKeyboardInterrupt\u001b[0m                         Traceback (most recent call last)",
      "\u001b[0;32m<ipython-input-5-7de63c1704ad>\u001b[0m in \u001b[0;36m<module>\u001b[0;34m\u001b[0m\n\u001b[1;32m     11\u001b[0m                 \u001b[0;31m# read featarray and pass tract_label\u001b[0m\u001b[0;34m\u001b[0m\u001b[0;34m\u001b[0m\u001b[0;34m\u001b[0m\u001b[0m\n\u001b[1;32m     12\u001b[0m                 \u001b[0;32mwith\u001b[0m \u001b[0mh5py\u001b[0m\u001b[0;34m.\u001b[0m\u001b[0mFile\u001b[0m\u001b[0;34m(\u001b[0m\u001b[0msubject_featMatrix_path\u001b[0m \u001b[0;34m+\u001b[0m \u001b[0mfilename\u001b[0m\u001b[0;34m,\u001b[0m \u001b[0;34m\"r\"\u001b[0m\u001b[0;34m)\u001b[0m \u001b[0;32mas\u001b[0m \u001b[0mf\u001b[0m\u001b[0;34m:\u001b[0m\u001b[0;34m\u001b[0m\u001b[0;34m\u001b[0m\u001b[0m\n\u001b[0;32m---> 13\u001b[0;31m                     \u001b[0mfeat_array\u001b[0m \u001b[0;34m=\u001b[0m \u001b[0mf\u001b[0m\u001b[0;34m.\u001b[0m\u001b[0mget\u001b[0m\u001b[0;34m(\u001b[0m\u001b[0;34m'feat'\u001b[0m\u001b[0;34m)\u001b[0m\u001b[0;34m[\u001b[0m\u001b[0;34m(\u001b[0m\u001b[0;34m)\u001b[0m\u001b[0;34m]\u001b[0m\u001b[0;34m\u001b[0m\u001b[0;34m\u001b[0m\u001b[0m\n\u001b[0m\u001b[1;32m     14\u001b[0m                 \u001b[0mfeat_label\u001b[0m\u001b[0;34m=\u001b[0m\u001b[0mnp\u001b[0m\u001b[0;34m.\u001b[0m\u001b[0mempty\u001b[0m\u001b[0;34m(\u001b[0m\u001b[0mfeat_array\u001b[0m\u001b[0;34m.\u001b[0m\u001b[0mshape\u001b[0m\u001b[0;34m[\u001b[0m\u001b[0;36m0\u001b[0m\u001b[0;34m]\u001b[0m\u001b[0;34m,\u001b[0m \u001b[0mdtype\u001b[0m\u001b[0;34m=\u001b[0m\u001b[0mlabel_hdf_dtype\u001b[0m\u001b[0;34m)\u001b[0m\u001b[0;34m\u001b[0m\u001b[0;34m\u001b[0m\u001b[0m\n\u001b[1;32m     15\u001b[0m                 \u001b[0mfeat_label\u001b[0m\u001b[0;34m.\u001b[0m\u001b[0mfill\u001b[0m\u001b[0;34m(\u001b[0m\u001b[0;34m(\u001b[0m\u001b[0mtract_name\u001b[0m\u001b[0;34m,\u001b[0m \u001b[0mtract_label\u001b[0m\u001b[0;34m,\u001b[0m \u001b[0mtract_label\u001b[0m\u001b[0;34m)\u001b[0m\u001b[0;34m)\u001b[0m\u001b[0;34m\u001b[0m\u001b[0;34m\u001b[0m\u001b[0m\n",
      "\u001b[0;32mh5py/_objects.pyx\u001b[0m in \u001b[0;36mh5py._objects.with_phil.wrapper\u001b[0;34m()\u001b[0m\n",
      "\u001b[0;32mh5py/_objects.pyx\u001b[0m in \u001b[0;36mh5py._objects.with_phil.wrapper\u001b[0;34m()\u001b[0m\n",
      "\u001b[0;32m~/anaconda3/envs/SupWMA/lib/python3.6/site-packages/h5py/_hl/dataset.py\u001b[0m in \u001b[0;36m__getitem__\u001b[0;34m(self, args)\u001b[0m\n\u001b[1;32m    571\u001b[0m         \u001b[0mmspace\u001b[0m \u001b[0;34m=\u001b[0m \u001b[0mh5s\u001b[0m\u001b[0;34m.\u001b[0m\u001b[0mcreate_simple\u001b[0m\u001b[0;34m(\u001b[0m\u001b[0mmshape\u001b[0m\u001b[0;34m)\u001b[0m\u001b[0;34m\u001b[0m\u001b[0;34m\u001b[0m\u001b[0m\n\u001b[1;32m    572\u001b[0m         \u001b[0mfspace\u001b[0m \u001b[0;34m=\u001b[0m \u001b[0mselection\u001b[0m\u001b[0;34m.\u001b[0m\u001b[0mid\u001b[0m\u001b[0;34m\u001b[0m\u001b[0;34m\u001b[0m\u001b[0m\n\u001b[0;32m--> 573\u001b[0;31m         \u001b[0mself\u001b[0m\u001b[0;34m.\u001b[0m\u001b[0mid\u001b[0m\u001b[0;34m.\u001b[0m\u001b[0mread\u001b[0m\u001b[0;34m(\u001b[0m\u001b[0mmspace\u001b[0m\u001b[0;34m,\u001b[0m \u001b[0mfspace\u001b[0m\u001b[0;34m,\u001b[0m \u001b[0marr\u001b[0m\u001b[0;34m,\u001b[0m \u001b[0mmtype\u001b[0m\u001b[0;34m,\u001b[0m \u001b[0mdxpl\u001b[0m\u001b[0;34m=\u001b[0m\u001b[0mself\u001b[0m\u001b[0;34m.\u001b[0m\u001b[0m_dxpl\u001b[0m\u001b[0;34m)\u001b[0m\u001b[0;34m\u001b[0m\u001b[0;34m\u001b[0m\u001b[0m\n\u001b[0m\u001b[1;32m    574\u001b[0m \u001b[0;34m\u001b[0m\u001b[0m\n\u001b[1;32m    575\u001b[0m         \u001b[0;31m# Patch up the output for NumPy\u001b[0m\u001b[0;34m\u001b[0m\u001b[0;34m\u001b[0m\u001b[0;34m\u001b[0m\u001b[0m\n",
      "\u001b[0;31mKeyboardInterrupt\u001b[0m: "
     ]
    }
   ],
   "source": [
    "\n",
    "for filename in tqdm(os.listdir(subject_featMatrix_path)):\n",
    "    # looping over all the filenames \n",
    "    if filename.endswith((\".h5\")):\n",
    "        # looping over all the (.h5 files i.e. featMatrix)\n",
    "        if \".vtk\" not in filename:\n",
    "            if \"atlas\" not in filename:\n",
    "                tract_name = filename.replace(subject_ID + \"_T_\", \"\").replace(\"_featMatrix.h5\", \"\")\n",
    "                tract_label = label_mapping_72.loc[label_mapping_72.label_names == bytes(tract_name, 'utf-8'),'label_array'].item()\n",
    "                print(tract_name, tract_label, type(tract_label))\n",
    "\n",
    "                # read featarray and pass tract_label\n",
    "                with h5py.File(subject_featMatrix_path + filename, \"r\") as f:\n",
    "                    feat_array = f.get('feat')[()]\n",
    "                feat_label=np.empty(feat_array.shape[0], dtype=label_hdf_dtype)\n",
    "                feat_label.fill((tract_name, tract_label, tract_label))\n",
    "\n",
    "                # limit the size of the numpy array to reducing fraction of the array so that the error of big size can be resolved \n",
    "                n_tracts = int(reducing_fraction*feat_array.shape[0])\n",
    "\n",
    "                feat_array = feat_array[0:n_tracts]\n",
    "                feat_label = feat_label[0:n_tracts]\n",
    "\n",
    "                # append this to a numpy array \n",
    "\n",
    "                if streamlines==0:\n",
    "                    featMatrix = feat_array\n",
    "                    featLabel = feat_label\n",
    "\n",
    "                featMatrix = np.append(featMatrix, feat_array, axis=0)\n",
    "                featLabel = np.append(featLabel, feat_label, axis=0)\n",
    "\n",
    "                print(\"(featMatrix, featLabel)\", featMatrix.shape, featLabel.shape)\n",
    "                streamlines = feat_array.shape[0] + streamlines\n",
    "                print(\"No. of Streamlines {}\".format(streamlines))\n",
    "    else: \n",
    "        continue"
   ]
  },
  {
   "cell_type": "code",
   "execution_count": null,
   "metadata": {},
   "outputs": [],
   "source": [
    "# feed the numpy array to a combined hdf5 file\n",
    "h5_feat_array = h5py.File(\"/media/ang/Data/unnerve_data/{}/{}_featMatrix.h5\".format(subject_ID), 'w')\n",
    "h5_feat_array.create_dataset('feat', data=featMatrix)\n",
    "h5_feat_array.close()\n",
    "\n",
    "h5_feat_label =  h5py.File(\"/media/ang/Data/unnerve_data/{}/{}_label.h5\".format(subject_ID), 'w')\n",
    "h5_feat_label.create_dataset('label_array', data=featLabel['label_array'])# type: ignore\n",
    "h5_feat_label.create_dataset('label_values', data=featLabel['label_values'])  # type: ignore\n",
    "h5_feat_label.create_dataset('label_names', data=featLabel['label_names'])  # type: ignore\n",
    "\n",
    "h5_feat_label.close()"
   ]
  },
  {
   "cell_type": "code",
   "execution_count": null,
   "metadata": {},
   "outputs": [],
   "source": []
  }
 ],
 "metadata": {
  "kernelspec": {
   "display_name": "Python 3.6.10 ('SupWMA')",
   "language": "python",
   "name": "python3"
  },
  "language_info": {
   "codemirror_mode": {
    "name": "ipython",
    "version": 3
   },
   "file_extension": ".py",
   "mimetype": "text/x-python",
   "name": "python",
   "nbconvert_exporter": "python",
   "pygments_lexer": "ipython3",
   "version": "3.6.10"
  },
  "orig_nbformat": 4,
  "vscode": {
   "interpreter": {
    "hash": "36aec90b5a07fafc043f146ab1db38cbda9ca0590150a6d49f81c4cf72882f5a"
   }
  }
 },
 "nbformat": 4,
 "nbformat_minor": 2
}
