{
 "cells": [
  {
   "cell_type": "markdown",
   "metadata": {},
   "source": [
    "## feat_matrix \n",
    "\n",
    "1. reduce the size of each feature matrix for each .vtp fiber bundle (basis of a percentage 10)\n",
    "2. attach label to each feat_matrix.h5 file using label mapping\n",
    "3. combine the 54 tracts mentioned in the supplementary of the paper"
   ]
  },
  {
   "cell_type": "code",
   "execution_count": 1,
   "metadata": {},
   "outputs": [],
   "source": [
    "import h5py \n",
    "import numpy as np\n",
    "import pandas as pd\n",
    "import os\n",
    "from tqdm import tqdm"
   ]
  },
  {
   "cell_type": "code",
   "execution_count": 3,
   "metadata": {},
   "outputs": [],
   "source": [
    "label_mapping_72 = pd.read_csv(\"/home/ang/Documents/GitHub/DeepWMA/labels_reference.csv\", names=[\"label_names\", \"label_array\"])\n",
    "label_mapping_72['label_names'] = label_mapping_72['label_names'].astype('|S')\n",
    "\n",
    "\n",
    "# label_mapping_72 = pd.read_csv(\"/home/ang/Documents/GitHub/DeepWMA/labels_reference_66.csv\", names=[\"label_names\", \"label_array\"])\n",
    "# label_mapping_72['label_names'] = label_mapping_72['label_names'].astype('|S')\n"
   ]
  },
  {
   "cell_type": "code",
   "execution_count": 4,
   "metadata": {},
   "outputs": [],
   "source": [
    "# hdf data types\n",
    "label_hdf_dtype = np.dtype([('label_names', 'a30'), ('label_values', int), ('label_array', int)])\n",
    "feat_hdf_dtype = np.dtype([('feat', np.ndarray)])"
   ]
  },
  {
   "cell_type": "code",
   "execution_count": 5,
   "metadata": {},
   "outputs": [],
   "source": [
    "subject_ID = \"779370\"\n",
    "patient_data_path = \"/media/ang/Data/unnerve_data/779370/\"\n",
    "output_folder=\"/media/ang/Data/unnerve_data/\".format(subject_ID)\n",
    "reducing_fraction = 0.3\n",
    "streamlines = 0 "
   ]
  },
  {
   "cell_type": "markdown",
   "metadata": {},
   "source": [
    "### read featMatrix and create label\n",
    "\n",
    "1. loop over featMatrix of the patient\n",
    "2. "
   ]
  },
  {
   "cell_type": "code",
   "execution_count": 6,
   "metadata": {},
   "outputs": [
    {
     "name": "stderr",
     "output_type": "stream",
     "text": [
      "  3%|▎         | 2/75 [00:00<00:07,  9.33it/s]"
     ]
    },
    {
     "name": "stdout",
     "output_type": "stream",
     "text": [
      "AF_left 0 <class 'int'>\n",
      "(featMatrix, featLabel) (26792, 30, 30, 3) (26792,)\n",
      "No. of Streamlines 13396\n",
      "AF_right 1 <class 'int'>\n"
     ]
    },
    {
     "name": "stderr",
     "output_type": "stream",
     "text": [
      "  5%|▌         | 4/75 [00:00<00:12,  5.64it/s]"
     ]
    },
    {
     "name": "stdout",
     "output_type": "stream",
     "text": [
      "(featMatrix, featLabel) (33009, 30, 30, 3) (33009,)\n",
      "No. of Streamlines 19613\n",
      "ATR_left 2 <class 'int'>\n",
      "(featMatrix, featLabel) (38432, 30, 30, 3) (38432,)\n",
      "No. of Streamlines 25036\n",
      "ATR_right 3 <class 'int'>\n"
     ]
    },
    {
     "name": "stderr",
     "output_type": "stream",
     "text": [
      "  8%|▊         | 6/75 [00:01<00:16,  4.17it/s]"
     ]
    },
    {
     "name": "stdout",
     "output_type": "stream",
     "text": [
      "(featMatrix, featLabel) (46431, 30, 30, 3) (46431,)\n",
      "No. of Streamlines 33035\n",
      "CA 4 <class 'int'>\n",
      "(featMatrix, featLabel) (47322, 30, 30, 3) (47322,)\n",
      "No. of Streamlines 33926\n",
      "CC_1 5 <class 'int'>\n"
     ]
    },
    {
     "name": "stderr",
     "output_type": "stream",
     "text": [
      "  9%|▉         | 7/75 [00:01<00:15,  4.27it/s]"
     ]
    },
    {
     "name": "stdout",
     "output_type": "stream",
     "text": [
      "(featMatrix, featLabel) (51518, 30, 30, 3) (51518,)\n",
      "No. of Streamlines 38122\n",
      "CC_2 6 <class 'int'>\n"
     ]
    },
    {
     "name": "stderr",
     "output_type": "stream",
     "text": [
      " 11%|█         | 8/75 [00:02<00:23,  2.90it/s]"
     ]
    },
    {
     "name": "stdout",
     "output_type": "stream",
     "text": [
      "(featMatrix, featLabel) (67512, 30, 30, 3) (67512,)\n",
      "No. of Streamlines 54116\n",
      "CC_3 7 <class 'int'>\n"
     ]
    },
    {
     "name": "stderr",
     "output_type": "stream",
     "text": [
      " 12%|█▏        | 9/75 [00:02<00:30,  2.15it/s]"
     ]
    },
    {
     "name": "stdout",
     "output_type": "stream",
     "text": [
      "(featMatrix, featLabel) (71957, 30, 30, 3) (71957,)\n",
      "No. of Streamlines 58561\n",
      "CC_4 8 <class 'int'>\n"
     ]
    },
    {
     "name": "stderr",
     "output_type": "stream",
     "text": [
      " 13%|█▎        | 10/75 [00:08<02:11,  2.02s/it]"
     ]
    },
    {
     "name": "stdout",
     "output_type": "stream",
     "text": [
      "(featMatrix, featLabel) (91439, 30, 30, 3) (91439,)\n",
      "No. of Streamlines 78043\n",
      "CC_5 9 <class 'int'>\n"
     ]
    },
    {
     "name": "stderr",
     "output_type": "stream",
     "text": [
      " 15%|█▍        | 11/75 [00:10<02:11,  2.06s/it]"
     ]
    },
    {
     "name": "stdout",
     "output_type": "stream",
     "text": [
      "(featMatrix, featLabel) (99260, 30, 30, 3) (99260,)\n",
      "No. of Streamlines 85864\n",
      "CC_6 10 <class 'int'>\n"
     ]
    },
    {
     "name": "stderr",
     "output_type": "stream",
     "text": [
      " 16%|█▌        | 12/75 [00:10<01:38,  1.56s/it]"
     ]
    },
    {
     "name": "stdout",
     "output_type": "stream",
     "text": [
      "(featMatrix, featLabel) (107459, 30, 30, 3) (107459,)\n",
      "No. of Streamlines 94063\n",
      "CC_7 11 <class 'int'>\n"
     ]
    },
    {
     "name": "stderr",
     "output_type": "stream",
     "text": [
      " 17%|█▋        | 13/75 [00:11<01:14,  1.21s/it]"
     ]
    },
    {
     "name": "stdout",
     "output_type": "stream",
     "text": [
      "(featMatrix, featLabel) (112953, 30, 30, 3) (112953,)\n",
      "No. of Streamlines 99557\n",
      "CC 12 <class 'int'>\n"
     ]
    },
    {
     "name": "stderr",
     "output_type": "stream",
     "text": [
      " 19%|█▊        | 14/75 [00:11<01:02,  1.02s/it]"
     ]
    },
    {
     "name": "stdout",
     "output_type": "stream",
     "text": [
      "(featMatrix, featLabel) (131134, 30, 30, 3) (131134,)\n",
      "No. of Streamlines 117738\n",
      "CG_right 14 <class 'int'>\n"
     ]
    },
    {
     "name": "stderr",
     "output_type": "stream",
     "text": [
      " 20%|██        | 15/75 [00:12<00:52,  1.14it/s]"
     ]
    },
    {
     "name": "stdout",
     "output_type": "stream",
     "text": [
      "(featMatrix, featLabel) (142184, 30, 30, 3) (142184,)\n",
      "No. of Streamlines 128788\n",
      "CST_left 15 <class 'int'>\n"
     ]
    },
    {
     "name": "stderr",
     "output_type": "stream",
     "text": [
      " 21%|██▏       | 16/75 [00:12<00:44,  1.32it/s]"
     ]
    },
    {
     "name": "stdout",
     "output_type": "stream",
     "text": [
      "(featMatrix, featLabel) (145846, 30, 30, 3) (145846,)\n",
      "No. of Streamlines 132450\n",
      "CST_right 16 <class 'int'>\n"
     ]
    },
    {
     "name": "stderr",
     "output_type": "stream",
     "text": [
      " 23%|██▎       | 17/75 [00:13<00:39,  1.49it/s]"
     ]
    },
    {
     "name": "stdout",
     "output_type": "stream",
     "text": [
      "(featMatrix, featLabel) (148244, 30, 30, 3) (148244,)\n",
      "No. of Streamlines 134848\n",
      "FPT_left 17 <class 'int'>\n"
     ]
    },
    {
     "name": "stderr",
     "output_type": "stream",
     "text": [
      " 24%|██▍       | 18/75 [00:13<00:35,  1.60it/s]"
     ]
    },
    {
     "name": "stdout",
     "output_type": "stream",
     "text": [
      "(featMatrix, featLabel) (152665, 30, 30, 3) (152665,)\n",
      "No. of Streamlines 139269\n",
      "FPT_right 18 <class 'int'>\n"
     ]
    },
    {
     "name": "stderr",
     "output_type": "stream",
     "text": [
      " 25%|██▌       | 19/75 [00:14<00:32,  1.70it/s]"
     ]
    },
    {
     "name": "stdout",
     "output_type": "stream",
     "text": [
      "(featMatrix, featLabel) (155144, 30, 30, 3) (155144,)\n",
      "No. of Streamlines 141748\n",
      "FX_left 19 <class 'int'>\n"
     ]
    },
    {
     "name": "stderr",
     "output_type": "stream",
     "text": [
      " 27%|██▋       | 20/75 [00:14<00:30,  1.80it/s]"
     ]
    },
    {
     "name": "stdout",
     "output_type": "stream",
     "text": [
      "(featMatrix, featLabel) (155211, 30, 30, 3) (155211,)\n",
      "No. of Streamlines 141815\n",
      "FX_right 20 <class 'int'>\n"
     ]
    },
    {
     "name": "stderr",
     "output_type": "stream",
     "text": [
      " 28%|██▊       | 21/75 [00:15<00:28,  1.88it/s]"
     ]
    },
    {
     "name": "stdout",
     "output_type": "stream",
     "text": [
      "(featMatrix, featLabel) (155281, 30, 30, 3) (155281,)\n",
      "No. of Streamlines 141885\n",
      "ICP_left 21 <class 'int'>\n"
     ]
    },
    {
     "name": "stderr",
     "output_type": "stream",
     "text": [
      " 29%|██▉       | 22/75 [00:15<00:27,  1.92it/s]"
     ]
    },
    {
     "name": "stdout",
     "output_type": "stream",
     "text": [
      "(featMatrix, featLabel) (156675, 30, 30, 3) (156675,)\n",
      "No. of Streamlines 143279\n",
      "ICP_right 22 <class 'int'>\n"
     ]
    },
    {
     "name": "stderr",
     "output_type": "stream",
     "text": [
      " 31%|███       | 23/75 [00:16<00:26,  1.95it/s]"
     ]
    },
    {
     "name": "stdout",
     "output_type": "stream",
     "text": [
      "(featMatrix, featLabel) (158007, 30, 30, 3) (158007,)\n",
      "No. of Streamlines 144611\n",
      "IFO_left 23 <class 'int'>\n"
     ]
    },
    {
     "name": "stderr",
     "output_type": "stream",
     "text": [
      " 32%|███▏      | 24/75 [00:16<00:26,  1.93it/s]"
     ]
    },
    {
     "name": "stdout",
     "output_type": "stream",
     "text": [
      "(featMatrix, featLabel) (161318, 30, 30, 3) (161318,)\n",
      "No. of Streamlines 147922\n",
      "IFO_right 24 <class 'int'>\n"
     ]
    },
    {
     "name": "stderr",
     "output_type": "stream",
     "text": [
      " 33%|███▎      | 25/75 [00:17<00:26,  1.90it/s]"
     ]
    },
    {
     "name": "stdout",
     "output_type": "stream",
     "text": [
      "(featMatrix, featLabel) (165790, 30, 30, 3) (165790,)\n",
      "No. of Streamlines 152394\n",
      "ILF_left 25 <class 'int'>\n"
     ]
    },
    {
     "name": "stderr",
     "output_type": "stream",
     "text": [
      " 35%|███▍      | 26/75 [00:17<00:25,  1.90it/s]"
     ]
    },
    {
     "name": "stdout",
     "output_type": "stream",
     "text": [
      "(featMatrix, featLabel) (167131, 30, 30, 3) (167131,)\n",
      "No. of Streamlines 153735\n",
      "ILF_right 26 <class 'int'>\n"
     ]
    },
    {
     "name": "stderr",
     "output_type": "stream",
     "text": [
      " 36%|███▌      | 27/75 [00:18<00:25,  1.91it/s]"
     ]
    },
    {
     "name": "stdout",
     "output_type": "stream",
     "text": [
      "(featMatrix, featLabel) (167840, 30, 30, 3) (167840,)\n",
      "No. of Streamlines 154444\n",
      "MLF_left 28 <class 'int'>\n"
     ]
    },
    {
     "name": "stderr",
     "output_type": "stream",
     "text": [
      " 37%|███▋      | 28/75 [00:19<00:27,  1.72it/s]"
     ]
    },
    {
     "name": "stdout",
     "output_type": "stream",
     "text": [
      "(featMatrix, featLabel) (182512, 30, 30, 3) (182512,)\n",
      "No. of Streamlines 169116\n",
      "MLF_right 29 <class 'int'>\n"
     ]
    },
    {
     "name": "stderr",
     "output_type": "stream",
     "text": [
      " 39%|███▊      | 29/75 [00:19<00:28,  1.61it/s]"
     ]
    },
    {
     "name": "stdout",
     "output_type": "stream",
     "text": [
      "(featMatrix, featLabel) (193080, 30, 30, 3) (193080,)\n",
      "No. of Streamlines 179684\n",
      "OR_left 30 <class 'int'>\n"
     ]
    },
    {
     "name": "stderr",
     "output_type": "stream",
     "text": [
      " 40%|████      | 30/75 [00:20<00:28,  1.60it/s]"
     ]
    },
    {
     "name": "stdout",
     "output_type": "stream",
     "text": [
      "(featMatrix, featLabel) (194779, 30, 30, 3) (194779,)\n",
      "No. of Streamlines 181383\n",
      "OR_right 31 <class 'int'>\n"
     ]
    },
    {
     "name": "stderr",
     "output_type": "stream",
     "text": [
      " 41%|████▏     | 31/75 [00:21<00:27,  1.59it/s]"
     ]
    },
    {
     "name": "stdout",
     "output_type": "stream",
     "text": [
      "(featMatrix, featLabel) (196138, 30, 30, 3) (196138,)\n",
      "No. of Streamlines 182742\n",
      "POPT_left 32 <class 'int'>\n"
     ]
    },
    {
     "name": "stderr",
     "output_type": "stream",
     "text": [
      " 43%|████▎     | 32/75 [00:21<00:27,  1.57it/s]"
     ]
    },
    {
     "name": "stdout",
     "output_type": "stream",
     "text": [
      "(featMatrix, featLabel) (200049, 30, 30, 3) (200049,)\n",
      "No. of Streamlines 186653\n",
      "POPT_right 33 <class 'int'>\n"
     ]
    },
    {
     "name": "stderr",
     "output_type": "stream",
     "text": [
      " 44%|████▍     | 33/75 [00:22<00:27,  1.54it/s]"
     ]
    },
    {
     "name": "stdout",
     "output_type": "stream",
     "text": [
      "(featMatrix, featLabel) (205788, 30, 30, 3) (205788,)\n",
      "No. of Streamlines 192392\n",
      "SCP_left 34 <class 'int'>\n"
     ]
    },
    {
     "name": "stderr",
     "output_type": "stream",
     "text": [
      " 45%|████▌     | 34/75 [00:23<00:26,  1.53it/s]"
     ]
    },
    {
     "name": "stdout",
     "output_type": "stream",
     "text": [
      "(featMatrix, featLabel) (206536, 30, 30, 3) (206536,)\n",
      "No. of Streamlines 193140\n",
      "SCP_right 35 <class 'int'>\n"
     ]
    },
    {
     "name": "stderr",
     "output_type": "stream",
     "text": [
      " 47%|████▋     | 35/75 [00:23<00:25,  1.54it/s]"
     ]
    },
    {
     "name": "stdout",
     "output_type": "stream",
     "text": [
      "(featMatrix, featLabel) (207424, 30, 30, 3) (207424,)\n",
      "No. of Streamlines 194028\n",
      "SLF_III_left 36 <class 'int'>\n"
     ]
    },
    {
     "name": "stderr",
     "output_type": "stream",
     "text": [
      " 48%|████▊     | 36/75 [00:24<00:25,  1.54it/s]"
     ]
    },
    {
     "name": "stdout",
     "output_type": "stream",
     "text": [
      "(featMatrix, featLabel) (208861, 30, 30, 3) (208861,)\n",
      "No. of Streamlines 195465\n",
      "SLF_III_right 37 <class 'int'>\n"
     ]
    },
    {
     "name": "stderr",
     "output_type": "stream",
     "text": [
      " 49%|████▉     | 37/75 [00:25<00:24,  1.53it/s]"
     ]
    },
    {
     "name": "stdout",
     "output_type": "stream",
     "text": [
      "(featMatrix, featLabel) (210850, 30, 30, 3) (210850,)\n",
      "No. of Streamlines 197454\n",
      "SLF_II_left 38 <class 'int'>\n"
     ]
    },
    {
     "name": "stderr",
     "output_type": "stream",
     "text": [
      " 51%|█████     | 38/75 [00:25<00:24,  1.52it/s]"
     ]
    },
    {
     "name": "stdout",
     "output_type": "stream",
     "text": [
      "(featMatrix, featLabel) (212744, 30, 30, 3) (212744,)\n",
      "No. of Streamlines 199348\n",
      "SLF_II_right 39 <class 'int'>\n"
     ]
    },
    {
     "name": "stderr",
     "output_type": "stream",
     "text": [
      " 52%|█████▏    | 39/75 [00:26<00:24,  1.50it/s]"
     ]
    },
    {
     "name": "stdout",
     "output_type": "stream",
     "text": [
      "(featMatrix, featLabel) (216406, 30, 30, 3) (216406,)\n",
      "No. of Streamlines 203010\n",
      "SLF_I_left 40 <class 'int'>\n"
     ]
    },
    {
     "name": "stderr",
     "output_type": "stream",
     "text": [
      " 53%|█████▎    | 40/75 [00:27<00:24,  1.45it/s]"
     ]
    },
    {
     "name": "stdout",
     "output_type": "stream",
     "text": [
      "(featMatrix, featLabel) (221628, 30, 30, 3) (221628,)\n",
      "No. of Streamlines 208232\n",
      "STR_left 56 <class 'int'>\n"
     ]
    },
    {
     "name": "stderr",
     "output_type": "stream",
     "text": [
      " 55%|█████▍    | 41/75 [00:28<00:26,  1.26it/s]"
     ]
    },
    {
     "name": "stdout",
     "output_type": "stream",
     "text": [
      "(featMatrix, featLabel) (222863, 30, 30, 3) (222863,)\n",
      "No. of Streamlines 209467\n",
      "STR_right 57 <class 'int'>\n"
     ]
    },
    {
     "name": "stderr",
     "output_type": "stream",
     "text": [
      " 56%|█████▌    | 42/75 [00:29<00:25,  1.28it/s]"
     ]
    },
    {
     "name": "stdout",
     "output_type": "stream",
     "text": [
      "(featMatrix, featLabel) (223106, 30, 30, 3) (223106,)\n",
      "No. of Streamlines 209710\n",
      "ST_FO_left 42 <class 'int'>\n"
     ]
    },
    {
     "name": "stderr",
     "output_type": "stream",
     "text": [
      " 57%|█████▋    | 43/75 [00:29<00:24,  1.29it/s]"
     ]
    },
    {
     "name": "stdout",
     "output_type": "stream",
     "text": [
      "(featMatrix, featLabel) (227279, 30, 30, 3) (227279,)\n",
      "No. of Streamlines 213883\n",
      "ST_FO_right 43 <class 'int'>\n"
     ]
    },
    {
     "name": "stderr",
     "output_type": "stream",
     "text": [
      " 59%|█████▊    | 44/75 [00:30<00:23,  1.30it/s]"
     ]
    },
    {
     "name": "stdout",
     "output_type": "stream",
     "text": [
      "(featMatrix, featLabel) (231101, 30, 30, 3) (231101,)\n",
      "No. of Streamlines 217705\n",
      "ST_OCC_left 44 <class 'int'>\n"
     ]
    },
    {
     "name": "stderr",
     "output_type": "stream",
     "text": [
      " 60%|██████    | 45/75 [00:31<00:23,  1.28it/s]"
     ]
    },
    {
     "name": "stdout",
     "output_type": "stream",
     "text": [
      "(featMatrix, featLabel) (236200, 30, 30, 3) (236200,)\n",
      "No. of Streamlines 222804\n",
      "ST_OCC_right 45 <class 'int'>\n"
     ]
    },
    {
     "name": "stderr",
     "output_type": "stream",
     "text": [
      " 61%|██████▏   | 46/75 [00:32<00:23,  1.26it/s]"
     ]
    },
    {
     "name": "stdout",
     "output_type": "stream",
     "text": [
      "(featMatrix, featLabel) (241999, 30, 30, 3) (241999,)\n",
      "No. of Streamlines 228603\n",
      "ST_PAR_left 46 <class 'int'>\n"
     ]
    },
    {
     "name": "stderr",
     "output_type": "stream",
     "text": [
      " 63%|██████▎   | 47/75 [00:33<00:28,  1.01s/it]"
     ]
    },
    {
     "name": "stdout",
     "output_type": "stream",
     "text": [
      "(featMatrix, featLabel) (264635, 30, 30, 3) (264635,)\n",
      "No. of Streamlines 251239\n",
      "ST_PAR_right 47 <class 'int'>\n"
     ]
    },
    {
     "name": "stderr",
     "output_type": "stream",
     "text": [
      " 64%|██████▍   | 48/75 [00:34<00:29,  1.08s/it]"
     ]
    },
    {
     "name": "stdout",
     "output_type": "stream",
     "text": [
      "(featMatrix, featLabel) (284413, 30, 30, 3) (284413,)\n",
      "No. of Streamlines 271017\n",
      "ST_POSTC_left 48 <class 'int'>\n"
     ]
    },
    {
     "name": "stderr",
     "output_type": "stream",
     "text": [
      " 65%|██████▌   | 49/75 [00:35<00:27,  1.07s/it]"
     ]
    },
    {
     "name": "stdout",
     "output_type": "stream",
     "text": [
      "(featMatrix, featLabel) (293256, 30, 30, 3) (293256,)\n",
      "No. of Streamlines 279860\n",
      "ST_POSTC_right 49 <class 'int'>\n"
     ]
    },
    {
     "name": "stderr",
     "output_type": "stream",
     "text": [
      " 67%|██████▋   | 50/75 [00:37<00:26,  1.06s/it]"
     ]
    },
    {
     "name": "stdout",
     "output_type": "stream",
     "text": [
      "(featMatrix, featLabel) (300872, 30, 30, 3) (300872,)\n",
      "No. of Streamlines 287476\n",
      "ST_PREC_left 50 <class 'int'>\n"
     ]
    },
    {
     "name": "stderr",
     "output_type": "stream",
     "text": [
      " 68%|██████▊   | 51/75 [00:38<00:29,  1.25s/it]"
     ]
    },
    {
     "name": "stdout",
     "output_type": "stream",
     "text": [
      "(featMatrix, featLabel) (315095, 30, 30, 3) (315095,)\n",
      "No. of Streamlines 301699\n",
      "ST_PREC_right 51 <class 'int'>\n"
     ]
    },
    {
     "name": "stderr",
     "output_type": "stream",
     "text": [
      " 69%|██████▉   | 52/75 [00:39<00:28,  1.22s/it]"
     ]
    },
    {
     "name": "stdout",
     "output_type": "stream",
     "text": [
      "(featMatrix, featLabel) (325041, 30, 30, 3) (325041,)\n",
      "No. of Streamlines 311645\n",
      "ST_PREF_left 52 <class 'int'>\n"
     ]
    },
    {
     "name": "stderr",
     "output_type": "stream",
     "text": [
      " 71%|███████   | 53/75 [00:43<00:41,  1.90s/it]"
     ]
    },
    {
     "name": "stdout",
     "output_type": "stream",
     "text": [
      "(featMatrix, featLabel) (352948, 30, 30, 3) (352948,)\n",
      "No. of Streamlines 339552\n",
      "CG_left 13 <class 'int'>\n"
     ]
    },
    {
     "name": "stderr",
     "output_type": "stream",
     "text": [
      " 72%|███████▏  | 54/75 [00:44<00:37,  1.77s/it]"
     ]
    },
    {
     "name": "stdout",
     "output_type": "stream",
     "text": [
      "(featMatrix, featLabel) (361197, 30, 30, 3) (361197,)\n",
      "No. of Streamlines 347801\n",
      "MCP 27 <class 'int'>\n"
     ]
    },
    {
     "name": "stderr",
     "output_type": "stream",
     "text": [
      " 73%|███████▎  | 55/75 [00:46<00:34,  1.72s/it]"
     ]
    },
    {
     "name": "stdout",
     "output_type": "stream",
     "text": [
      "(featMatrix, featLabel) (374483, 30, 30, 3) (374483,)\n",
      "No. of Streamlines 361087\n",
      "SLF_I_right 41 <class 'int'>\n"
     ]
    },
    {
     "name": "stderr",
     "output_type": "stream",
     "text": [
      " 75%|███████▍  | 56/75 [00:47<00:30,  1.58s/it]"
     ]
    },
    {
     "name": "stdout",
     "output_type": "stream",
     "text": [
      "(featMatrix, featLabel) (378730, 30, 30, 3) (378730,)\n",
      "No. of Streamlines 365334\n",
      "ST_PREF_right 53 <class 'int'>\n"
     ]
    },
    {
     "name": "stderr",
     "output_type": "stream",
     "text": [
      " 76%|███████▌  | 57/75 [00:50<00:37,  2.09s/it]"
     ]
    },
    {
     "name": "stdout",
     "output_type": "stream",
     "text": [
      "(featMatrix, featLabel) (405081, 30, 30, 3) (405081,)\n",
      "No. of Streamlines 391685\n",
      "ST_PREM_left 54 <class 'int'>\n"
     ]
    },
    {
     "name": "stderr",
     "output_type": "stream",
     "text": [
      " 77%|███████▋  | 58/75 [00:52<00:32,  1.89s/it]"
     ]
    },
    {
     "name": "stdout",
     "output_type": "stream",
     "text": [
      "(featMatrix, featLabel) (406557, 30, 30, 3) (406557,)\n",
      "No. of Streamlines 393161\n",
      "ST_PREM_right 55 <class 'int'>\n"
     ]
    },
    {
     "name": "stderr",
     "output_type": "stream",
     "text": [
      " 79%|███████▊  | 59/75 [00:53<00:28,  1.78s/it]"
     ]
    },
    {
     "name": "stdout",
     "output_type": "stream",
     "text": [
      "(featMatrix, featLabel) (407915, 30, 30, 3) (407915,)\n",
      "No. of Streamlines 394519\n",
      "T_OCC_left 58 <class 'int'>\n"
     ]
    },
    {
     "name": "stderr",
     "output_type": "stream",
     "text": [
      " 80%|████████  | 60/75 [00:55<00:26,  1.79s/it]"
     ]
    },
    {
     "name": "stdout",
     "output_type": "stream",
     "text": [
      "(featMatrix, featLabel) (410727, 30, 30, 3) (410727,)\n",
      "No. of Streamlines 397331\n",
      "T_OCC_right 59 <class 'int'>\n"
     ]
    },
    {
     "name": "stderr",
     "output_type": "stream",
     "text": [
      " 81%|████████▏ | 61/75 [00:57<00:24,  1.74s/it]"
     ]
    },
    {
     "name": "stdout",
     "output_type": "stream",
     "text": [
      "(featMatrix, featLabel) (413163, 30, 30, 3) (413163,)\n",
      "No. of Streamlines 399767\n",
      "T_PAR_left 60 <class 'int'>\n"
     ]
    },
    {
     "name": "stderr",
     "output_type": "stream",
     "text": [
      " 83%|████████▎ | 62/75 [01:00<00:28,  2.23s/it]"
     ]
    },
    {
     "name": "stdout",
     "output_type": "stream",
     "text": [
      "(featMatrix, featLabel) (431617, 30, 30, 3) (431617,)\n",
      "No. of Streamlines 418221\n",
      "T_PAR_right 61 <class 'int'>\n"
     ]
    },
    {
     "name": "stderr",
     "output_type": "stream",
     "text": [
      " 84%|████████▍ | 63/75 [01:04<00:33,  2.81s/it]"
     ]
    },
    {
     "name": "stdout",
     "output_type": "stream",
     "text": [
      "(featMatrix, featLabel) (447631, 30, 30, 3) (447631,)\n",
      "No. of Streamlines 434235\n",
      "T_POSTC_left 62 <class 'int'>\n"
     ]
    },
    {
     "name": "stderr",
     "output_type": "stream",
     "text": [
      " 85%|████████▌ | 64/75 [01:07<00:28,  2.63s/it]"
     ]
    },
    {
     "name": "stdout",
     "output_type": "stream",
     "text": [
      "(featMatrix, featLabel) (452710, 30, 30, 3) (452710,)\n",
      "No. of Streamlines 439314\n",
      "T_POSTC_right 63 <class 'int'>\n"
     ]
    },
    {
     "name": "stderr",
     "output_type": "stream",
     "text": [
      " 87%|████████▋ | 65/75 [01:09<00:24,  2.47s/it]"
     ]
    },
    {
     "name": "stdout",
     "output_type": "stream",
     "text": [
      "(featMatrix, featLabel) (458379, 30, 30, 3) (458379,)\n",
      "No. of Streamlines 444983\n",
      "T_PREC_left 64 <class 'int'>\n"
     ]
    },
    {
     "name": "stderr",
     "output_type": "stream",
     "text": [
      " 88%|████████▊ | 66/75 [01:11<00:21,  2.40s/it]"
     ]
    },
    {
     "name": "stdout",
     "output_type": "stream",
     "text": [
      "(featMatrix, featLabel) (466746, 30, 30, 3) (466746,)\n",
      "No. of Streamlines 453350\n",
      "T_PREC_right 65 <class 'int'>\n"
     ]
    },
    {
     "name": "stderr",
     "output_type": "stream",
     "text": [
      " 89%|████████▉ | 67/75 [01:15<00:24,  3.03s/it]"
     ]
    },
    {
     "name": "stdout",
     "output_type": "stream",
     "text": [
      "(featMatrix, featLabel) (475771, 30, 30, 3) (475771,)\n",
      "No. of Streamlines 462375\n",
      "T_PREF_left 66 <class 'int'>\n"
     ]
    },
    {
     "name": "stderr",
     "output_type": "stream",
     "text": [
      " 91%|█████████ | 68/75 [01:25<00:35,  5.02s/it]"
     ]
    },
    {
     "name": "stdout",
     "output_type": "stream",
     "text": [
      "(featMatrix, featLabel) (492577, 30, 30, 3) (492577,)\n",
      "No. of Streamlines 479181\n",
      "T_PREF_right 67 <class 'int'>\n"
     ]
    },
    {
     "name": "stderr",
     "output_type": "stream",
     "text": [
      " 92%|█████████▏| 69/75 [01:34<00:37,  6.21s/it]"
     ]
    },
    {
     "name": "stdout",
     "output_type": "stream",
     "text": [
      "(featMatrix, featLabel) (509579, 30, 30, 3) (509579,)\n",
      "No. of Streamlines 496183\n",
      "T_PREM_left 68 <class 'int'>\n"
     ]
    },
    {
     "name": "stderr",
     "output_type": "stream",
     "text": [
      " 93%|█████████▎| 70/75 [01:36<00:25,  5.02s/it]"
     ]
    },
    {
     "name": "stdout",
     "output_type": "stream",
     "text": [
      "(featMatrix, featLabel) (510700, 30, 30, 3) (510700,)\n",
      "No. of Streamlines 497304\n",
      "T_PREM_right 69 <class 'int'>\n"
     ]
    },
    {
     "name": "stderr",
     "output_type": "stream",
     "text": [
      " 95%|█████████▍| 71/75 [01:39<00:17,  4.31s/it]"
     ]
    },
    {
     "name": "stdout",
     "output_type": "stream",
     "text": [
      "(featMatrix, featLabel) (512557, 30, 30, 3) (512557,)\n",
      "No. of Streamlines 499161\n",
      "UF_left 70 <class 'int'>\n"
     ]
    },
    {
     "name": "stderr",
     "output_type": "stream",
     "text": [
      " 96%|█████████▌| 72/75 [01:41<00:10,  3.61s/it]"
     ]
    },
    {
     "name": "stdout",
     "output_type": "stream",
     "text": [
      "(featMatrix, featLabel) (513268, 30, 30, 3) (513268,)\n",
      "No. of Streamlines 499872\n",
      "UF_right 71 <class 'int'>\n"
     ]
    },
    {
     "name": "stderr",
     "output_type": "stream",
     "text": [
      "100%|██████████| 75/75 [01:44<00:00,  1.39s/it]"
     ]
    },
    {
     "name": "stdout",
     "output_type": "stream",
     "text": [
      "(featMatrix, featLabel) (515422, 30, 30, 3) (515422,)\n",
      "No. of Streamlines 502026\n"
     ]
    },
    {
     "name": "stderr",
     "output_type": "stream",
     "text": [
      "\n"
     ]
    }
   ],
   "source": [
    "\n",
    "for filename in tqdm(os.listdir(patient_data_path)):\n",
    "    if filename.endswith((\".h5\")):\n",
    "        if \".vtk\" not in filename:\n",
    "            if \"atlas\" not in filename:\n",
    "                tract_name = filename.replace(subject_ID + \"_T_\", \"\").replace(\"_featMatrix.h5\", \"\")\n",
    "                tract_label = label_mapping_72.loc[label_mapping_72.label_names == bytes(tract_name, 'utf-8'),'label_array'].item()\n",
    "                print(tract_name, tract_label, type(tract_label))\n",
    "\n",
    "                # read featarray and pass tract_label\n",
    "                with h5py.File(patient_data_path + filename, \"r\") as f:\n",
    "                    feat_array = f.get('feat')[()]\n",
    "                feat_label=np.empty(feat_array.shape[0], dtype=label_hdf_dtype)\n",
    "                feat_label.fill((tract_name, tract_label, tract_label))\n",
    "\n",
    "                # limit the size of the numpy array to reducing fraction of the array so that the error of big size can be resolved \n",
    "                n_tracts = int(reducing_fraction*feat_array.shape[0])\n",
    "\n",
    "                feat_array = feat_array[0:n_tracts]\n",
    "                feat_label = feat_label[0:n_tracts]\n",
    "\n",
    "                # append this to a numpy array \n",
    "\n",
    "                if streamlines==0:\n",
    "                    featMatrix = feat_array\n",
    "                    featLabel = feat_label\n",
    "\n",
    "                featMatrix = np.append(featMatrix, feat_array, axis=0)\n",
    "                featLabel = np.append(featLabel, feat_label, axis=0)\n",
    "\n",
    "                print(\"(featMatrix, featLabel)\", featMatrix.shape, featLabel.shape)\n",
    "                streamlines = feat_array.shape[0] + streamlines\n",
    "                print(\"No. of Streamlines {}\".format(streamlines))\n",
    "    else: \n",
    "        continue"
   ]
  },
  {
   "cell_type": "code",
   "execution_count": null,
   "metadata": {},
   "outputs": [],
   "source": [
    "# feed the numpy array to a combined hdf5 file\n",
    "h5_feat_array = h5py.File(\"/media/ang/Data/data/779370/{}_featMatrix.h5\".format(subject_ID), 'w')\n",
    "h5_feat_array.create_dataset('feat', data=featMatrix)\n",
    "h5_feat_array.close()\n",
    "\n",
    "h5_feat_label =  h5py.File(\"/media/ang/Data/data/779370/{}_label.h5\".format(subject_ID), 'w')\n",
    "h5_feat_label.create_dataset('label_array', data=featLabel['label_array'])# type: ignore\n",
    "h5_feat_label.create_dataset('label_values', data=featLabel['label_values'])  # type: ignore\n",
    "h5_feat_label.create_dataset('label_names', data=featLabel['label_names'])  # type: ignore\n",
    "\n",
    "h5_feat_label.close()"
   ]
  },
  {
   "cell_type": "code",
   "execution_count": null,
   "metadata": {},
   "outputs": [],
   "source": []
  }
 ],
 "metadata": {
  "kernelspec": {
   "display_name": "Python 3.6.10 ('SupWMA')",
   "language": "python",
   "name": "python3"
  },
  "language_info": {
   "codemirror_mode": {
    "name": "ipython",
    "version": 3
   },
   "file_extension": ".py",
   "mimetype": "text/x-python",
   "name": "python",
   "nbconvert_exporter": "python",
   "pygments_lexer": "ipython3",
   "version": "3.6.10"
  },
  "orig_nbformat": 4,
  "vscode": {
   "interpreter": {
    "hash": "36aec90b5a07fafc043f146ab1db38cbda9ca0590150a6d49f81c4cf72882f5a"
   }
  }
 },
 "nbformat": 4,
 "nbformat_minor": 2
}
