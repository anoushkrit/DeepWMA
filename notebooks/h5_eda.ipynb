{
 "cells": [
  {
   "cell_type": "code",
   "execution_count": 50,
   "metadata": {},
   "outputs": [],
   "source": [
    "import h5py\n",
    "filename = \"/home/ang/Documents/GitHub/SupWMA/TrainData/198gtswm_198ol_602other/h5_np15/sf_clusters_train_featMatrix_1.h5\"\n",
    "\n",
    "def read_h5(filename):\n",
    "    with h5py.File(filename, \"r\") as f:\n",
    "        # List all groups\n",
    "        print(\"Keys: %s\" % f.keys())\n",
    "        a_group_key = list(f.keys())[0]\n",
    "\n",
    "        # Get the data\n",
    "        data = list(f[a_group_key])\n",
    "\n",
    "    try:\n",
    "        print(\"Data Type of data in featMatrix h5 file: \", type(data))\n",
    "        print(\"No. of streamlines in the data\", len(data))\n",
    "        print(\"No. of points per streamline\", len(data[1]))\n",
    "        try:\n",
    "            print(\"Coordinates length\", len(data[0][0]))\n",
    "            print('Sample Streamline', data[1])\n",
    "        except: \n",
    "            pass\n",
    "    except:\n",
    "        pass\n",
    "\n",
    "    return data, f.keys()"
   ]
  },
  {
   "cell_type": "code",
   "execution_count": 51,
   "metadata": {},
   "outputs": [
    {
     "name": "stdout",
     "output_type": "stream",
     "text": [
      "Keys: <KeysViewHDF5 ['label_names', 'other_label', 'sc_label']>\n",
      "Data Type of data in featMatrix h5 file:  <class 'list'>\n",
      "No. of streamlines in the data 998\n",
      "No. of points per streamline 13\n",
      "Keys: <KeysViewHDF5 ['label_names', 'other_label', 'sc_label']>\n"
     ]
    }
   ],
   "source": [
    "filename = \"/home/ang/Documents/GitHub/SupWMA/TrainData/198gtswm_198ol_602other/h5_np15/sf_clusters_train_label_1.h5\"\n",
    "feat_data, feat_key = read_h5(filename=filename)\n",
    "\n",
    "filename = \"/home/ang/Documents/GitHub/SupWMA/TrainData/198gtswm_198ol_602other/h5_np15/sf_clusters_train_label_1.h5\"\n",
    "with h5py.File(filename, \"r\") as f:\n",
    "        # List all groups\n",
    "        print(\"Keys: %s\" % f.keys())\n",
    "        a_group_key = list(f.keys())[0]\n",
    "\n",
    "        # Get the data\n",
    "        data = list(f[a_group_key])\n",
    "        # print(len(data))\n",
    "        # print(len(data[0]))\n",
    "        # print(data[0][0])\n",
    "\n",
    "        # print(\"---sc_label\")\n",
    "        # print(set(f['sc_label'].value))\n",
    "        # print(set(f['other_label'].value))\n"
   ]
  },
  {
   "cell_type": "code",
   "execution_count": 52,
   "metadata": {},
   "outputs": [
    {
     "name": "stdout",
     "output_type": "stream",
     "text": [
      "Keys: <KeysViewHDF5 ['y_prediction']>\n"
     ]
    },
    {
     "ename": "KeyboardInterrupt",
     "evalue": "",
     "output_type": "error",
     "traceback": [
      "\u001b[0;31m---------------------------------------------------------------------------\u001b[0m",
      "\u001b[0;31mKeyboardInterrupt\u001b[0m                         Traceback (most recent call last)",
      "\u001b[0;32m<ipython-input-52-a41a0bf20eaf>\u001b[0m in \u001b[0;36m<module>\u001b[0;34m\u001b[0m\n\u001b[1;32m      6\u001b[0m \u001b[0;34m\u001b[0m\u001b[0m\n\u001b[1;32m      7\u001b[0m         \u001b[0;31m# Get the data\u001b[0m\u001b[0;34m\u001b[0m\u001b[0;34m\u001b[0m\u001b[0;34m\u001b[0m\u001b[0m\n\u001b[0;32m----> 8\u001b[0;31m         \u001b[0mdata\u001b[0m \u001b[0;34m=\u001b[0m \u001b[0mlist\u001b[0m\u001b[0;34m(\u001b[0m\u001b[0mf\u001b[0m\u001b[0;34m[\u001b[0m\u001b[0ma_group_key\u001b[0m\u001b[0;34m]\u001b[0m\u001b[0;34m)\u001b[0m\u001b[0;34m\u001b[0m\u001b[0;34m\u001b[0m\u001b[0m\n\u001b[0m\u001b[1;32m      9\u001b[0m         \u001b[0mprint\u001b[0m\u001b[0;34m(\u001b[0m\u001b[0mlen\u001b[0m\u001b[0;34m(\u001b[0m\u001b[0mdata\u001b[0m\u001b[0;34m)\u001b[0m\u001b[0;34m)\u001b[0m\u001b[0;34m\u001b[0m\u001b[0;34m\u001b[0m\u001b[0m\n",
      "\u001b[0;32m~/anaconda3/envs/SupWMA/lib/python3.6/site-packages/h5py/_hl/dataset.py\u001b[0m in \u001b[0;36m__iter__\u001b[0;34m(self)\u001b[0m\n\u001b[1;32m    472\u001b[0m             \u001b[0;32mraise\u001b[0m \u001b[0mTypeError\u001b[0m\u001b[0;34m(\u001b[0m\u001b[0;34m\"Can't iterate over a scalar dataset\"\u001b[0m\u001b[0;34m)\u001b[0m\u001b[0;34m\u001b[0m\u001b[0;34m\u001b[0m\u001b[0m\n\u001b[1;32m    473\u001b[0m         \u001b[0;32mfor\u001b[0m \u001b[0mi\u001b[0m \u001b[0;32min\u001b[0m \u001b[0mxrange\u001b[0m\u001b[0;34m(\u001b[0m\u001b[0mshape\u001b[0m\u001b[0;34m[\u001b[0m\u001b[0;36m0\u001b[0m\u001b[0;34m]\u001b[0m\u001b[0;34m)\u001b[0m\u001b[0;34m:\u001b[0m\u001b[0;34m\u001b[0m\u001b[0;34m\u001b[0m\u001b[0m\n\u001b[0;32m--> 474\u001b[0;31m             \u001b[0;32myield\u001b[0m \u001b[0mself\u001b[0m\u001b[0;34m[\u001b[0m\u001b[0mi\u001b[0m\u001b[0;34m]\u001b[0m\u001b[0;34m\u001b[0m\u001b[0;34m\u001b[0m\u001b[0m\n\u001b[0m\u001b[1;32m    475\u001b[0m \u001b[0;34m\u001b[0m\u001b[0m\n\u001b[1;32m    476\u001b[0m     \u001b[0;34m@\u001b[0m\u001b[0mwith_phil\u001b[0m\u001b[0;34m\u001b[0m\u001b[0;34m\u001b[0m\u001b[0m\n",
      "\u001b[0;32mh5py/_objects.pyx\u001b[0m in \u001b[0;36mh5py._objects.with_phil.wrapper\u001b[0;34m()\u001b[0m\n",
      "\u001b[0;32mh5py/_objects.pyx\u001b[0m in \u001b[0;36mh5py._objects.with_phil.wrapper\u001b[0;34m()\u001b[0m\n",
      "\u001b[0;32m~/anaconda3/envs/SupWMA/lib/python3.6/site-packages/h5py/_hl/dataset.py\u001b[0m in \u001b[0;36m__getitem__\u001b[0;34m(self, args)\u001b[0m\n\u001b[1;32m    536\u001b[0m         \u001b[0;31m# === Scalar dataspaces =================\u001b[0m\u001b[0;34m\u001b[0m\u001b[0;34m\u001b[0m\u001b[0;34m\u001b[0m\u001b[0m\n\u001b[1;32m    537\u001b[0m \u001b[0;34m\u001b[0m\u001b[0m\n\u001b[0;32m--> 538\u001b[0;31m         \u001b[0;32mif\u001b[0m \u001b[0mself\u001b[0m\u001b[0;34m.\u001b[0m\u001b[0mshape\u001b[0m \u001b[0;34m==\u001b[0m \u001b[0;34m(\u001b[0m\u001b[0;34m)\u001b[0m\u001b[0;34m:\u001b[0m\u001b[0;34m\u001b[0m\u001b[0;34m\u001b[0m\u001b[0m\n\u001b[0m\u001b[1;32m    539\u001b[0m             \u001b[0mfspace\u001b[0m \u001b[0;34m=\u001b[0m \u001b[0mself\u001b[0m\u001b[0;34m.\u001b[0m\u001b[0mid\u001b[0m\u001b[0;34m.\u001b[0m\u001b[0mget_space\u001b[0m\u001b[0;34m(\u001b[0m\u001b[0;34m)\u001b[0m\u001b[0;34m\u001b[0m\u001b[0;34m\u001b[0m\u001b[0m\n\u001b[1;32m    540\u001b[0m             \u001b[0mselection\u001b[0m \u001b[0;34m=\u001b[0m \u001b[0msel2\u001b[0m\u001b[0;34m.\u001b[0m\u001b[0mselect_read\u001b[0m\u001b[0;34m(\u001b[0m\u001b[0mfspace\u001b[0m\u001b[0;34m,\u001b[0m \u001b[0margs\u001b[0m\u001b[0;34m)\u001b[0m\u001b[0;34m\u001b[0m\u001b[0;34m\u001b[0m\u001b[0m\n",
      "\u001b[0;32mh5py/_objects.pyx\u001b[0m in \u001b[0;36mh5py._objects.with_phil.wrapper\u001b[0;34m()\u001b[0m\n",
      "\u001b[0;32mh5py/_objects.pyx\u001b[0m in \u001b[0;36mh5py._objects.with_phil.wrapper\u001b[0;34m()\u001b[0m\n",
      "\u001b[0;32m~/anaconda3/envs/SupWMA/lib/python3.6/site-packages/h5py/_hl/dataset.py\u001b[0m in \u001b[0;36mshape\u001b[0;34m(self)\u001b[0m\n\u001b[1;32m    285\u001b[0m     \u001b[0;32mdef\u001b[0m \u001b[0mshape\u001b[0m\u001b[0;34m(\u001b[0m\u001b[0mself\u001b[0m\u001b[0;34m)\u001b[0m\u001b[0;34m:\u001b[0m\u001b[0;34m\u001b[0m\u001b[0;34m\u001b[0m\u001b[0m\n\u001b[1;32m    286\u001b[0m         \u001b[0;34m\"\"\"Numpy-style shape tuple giving dataset dimensions\"\"\"\u001b[0m\u001b[0;34m\u001b[0m\u001b[0;34m\u001b[0m\u001b[0m\n\u001b[0;32m--> 287\u001b[0;31m         \u001b[0;32mreturn\u001b[0m \u001b[0mself\u001b[0m\u001b[0;34m.\u001b[0m\u001b[0mid\u001b[0m\u001b[0;34m.\u001b[0m\u001b[0mshape\u001b[0m\u001b[0;34m\u001b[0m\u001b[0;34m\u001b[0m\u001b[0m\n\u001b[0m\u001b[1;32m    288\u001b[0m     \u001b[0;34m@\u001b[0m\u001b[0mshape\u001b[0m\u001b[0;34m.\u001b[0m\u001b[0msetter\u001b[0m\u001b[0;34m\u001b[0m\u001b[0;34m\u001b[0m\u001b[0m\n\u001b[1;32m    289\u001b[0m     \u001b[0;34m@\u001b[0m\u001b[0mwith_phil\u001b[0m\u001b[0;34m\u001b[0m\u001b[0;34m\u001b[0m\u001b[0m\n",
      "\u001b[0;31mKeyboardInterrupt\u001b[0m: "
     ]
    }
   ],
   "source": [
    "filename = \"/home/ang/Documents/GitHub/DeepWMA/data/999999/999999_multi_tract_specific_prediction_mask.h5\"\n",
    "with h5py.File(filename, \"r\") as f:\n",
    "        # List all groups\n",
    "        print(\"Keys: %s\" % f.keys())\n",
    "        a_group_key = list(f.keys())[0]\n",
    "\n",
    "        # Get the data\n",
    "        data = list(f[a_group_key])\n",
    "        print(len(data))"
   ]
  },
  {
   "cell_type": "code",
   "execution_count": null,
   "metadata": {},
   "outputs": [
    {
     "name": "stdout",
     "output_type": "stream",
     "text": [
      "Keys: <KeysViewHDF5 ['y_prediction']>\n"
     ]
    },
    {
     "data": {
      "text/html": [
       "<div>\n",
       "<style scoped>\n",
       "    .dataframe tbody tr th:only-of-type {\n",
       "        vertical-align: middle;\n",
       "    }\n",
       "\n",
       "    .dataframe tbody tr th {\n",
       "        vertical-align: top;\n",
       "    }\n",
       "\n",
       "    .dataframe thead th {\n",
       "        text-align: right;\n",
       "    }\n",
       "</style>\n",
       "<table border=\"1\" class=\"dataframe\">\n",
       "  <thead>\n",
       "    <tr style=\"text-align: right;\">\n",
       "      <th></th>\n",
       "      <th>0</th>\n",
       "    </tr>\n",
       "  </thead>\n",
       "  <tbody>\n",
       "    <tr>\n",
       "      <th>0</th>\n",
       "      <td>12</td>\n",
       "    </tr>\n",
       "    <tr>\n",
       "      <th>1</th>\n",
       "      <td>33</td>\n",
       "    </tr>\n",
       "    <tr>\n",
       "      <th>2</th>\n",
       "      <td>33</td>\n",
       "    </tr>\n",
       "    <tr>\n",
       "      <th>3</th>\n",
       "      <td>33</td>\n",
       "    </tr>\n",
       "    <tr>\n",
       "      <th>4</th>\n",
       "      <td>15</td>\n",
       "    </tr>\n",
       "  </tbody>\n",
       "</table>\n",
       "</div>"
      ],
      "text/plain": [
       "    0\n",
       "0  12\n",
       "1  33\n",
       "2  33\n",
       "3  33\n",
       "4  15"
      ]
     },
     "execution_count": 33,
     "metadata": {},
     "output_type": "execute_result"
    }
   ],
   "source": [
    "import pandas as pd \n",
    "import numpy as np\n",
    "filename = \"/home/ang/Documents/GitHub/DeepWMA/data/999999/999999_multi_tract_specific_prediction_mask.h5\"\n",
    "# df = pd.read_hdf('/home/ang/Documents/GitHub/DeepWMA/data/999999/999999_multi_tract_specific_prediction_mask.h5')\n",
    "# df.head()\n",
    "\n",
    "with h5py.File(filename, \"r\") as f:\n",
    "        print(\"Keys: %s\" % f.keys())\n",
    "        \n",
    "\n",
    "df = pd.DataFrame(np.array(h5py.File(filename)['y_prediction']))\n",
    "df.head()"
   ]
  },
  {
   "cell_type": "code",
   "execution_count": null,
   "metadata": {},
   "outputs": [
    {
     "name": "stdout",
     "output_type": "stream",
     "text": [
      "Keys: <KeysViewHDF5 ['feat']>\n",
      "20000\n",
      "30\n",
      "30\n",
      "3\n"
     ]
    }
   ],
   "source": [
    "filename = \"/home/ang/Documents/GitHub/DeepWMA/data/999999/999999_featMatrix.h5\"\n",
    "with h5py.File(filename, \"r\") as f:\n",
    "        # List all groups\n",
    "        print(\"Keys: %s\" % f.keys())\n",
    "        a_group_key = list(f.keys())[0]\n",
    "\n",
    "        # Get the data\n",
    "        data = list(f[a_group_key])\n",
    "        print(len(data))\n",
    "        print(len(data[0]))\n",
    "        print(len(data[0][0]))\n",
    "        print(len(data[0][0][0]))"
   ]
  },
  {
   "cell_type": "code",
   "execution_count": null,
   "metadata": {},
   "outputs": [
    {
     "name": "stdout",
     "output_type": "stream",
     "text": [
      "Keys: <KeysViewHDF5 ['feat']>\n",
      "<class 'numpy.ndarray'>\n",
      "RangeIndex(start=0, stop=1, step=1)\n"
     ]
    }
   ],
   "source": [
    "label_names=\"/home/ang/Documents/GitHub/DeepWMA/SegModels/CNN/cnn_label_names.h5\"\n",
    "with h5py.File(filename, \"r\") as f:\n",
    "        # List all groups\n",
    "        print(\"Keys: %s\" % f.keys())\n",
    "        a_group_key = list(f.keys())[0]\n",
    "\n",
    "        # Get the data\n",
    "        data = list(f[a_group_key])\n",
    "        print( type(list(f[list(f.keys())[0]])[0]))\n",
    "\n",
    "\n",
    "df_2 = pd.DataFrame(np.array(h5py.File(label_names)['y_names']))\n",
    "print(df_2.columns)\n",
    "df_2[df_2.columns[0]] = df_2[df_2.columns[0]].apply(lambda x: x.decode('UTF-8'))\n",
    "df_2.rename(columns = {0: 'label_names'}, inplace = True)\n",
    "df_2['label_values'] = np.arange(df_2.shape[0])\n",
    "df_2['label_array'] = np.arange(df_2.shape[0])\n",
    "\n",
    "df_2['label_names'].to_hdf('/home/ang/Documents/GitHub/DeepWMA/label_ref.h5', key ='label_names', mode='w')\n",
    "df_2['label_values'].to_hdf('/home/ang/Documents/GitHub/DeepWMA/label_ref.h5', key ='label_values')\n",
    "df_2['label_array'].to_hdf('/home/ang/Documents/GitHub/DeepWMA/label_ref.h5', key ='label_array')\n",
    "\n"
   ]
  },
  {
   "cell_type": "code",
   "execution_count": null,
   "metadata": {},
   "outputs": [
    {
     "name": "stdout",
     "output_type": "stream",
     "text": [
      "Keys: <KeysViewHDF5 ['label_array', 'label_names', 'label_values']>\n"
     ]
    }
   ],
   "source": [
    "# df_3 =pd.read_hdf(\"/home/ang/Documents/GitHub/DeepWMA/label_ref.h5\")\n",
    "filename = \"/home/ang/Documents/GitHub/DeepWMA/label_ref.h5\"\n",
    "with h5py.File(filename, \"r\") as f:\n",
    "        # List all groups\n",
    "        print(\"Keys: %s\" % f.keys())"
   ]
  },
  {
   "cell_type": "code",
   "execution_count": null,
   "metadata": {},
   "outputs": [
    {
     "data": {
      "text/html": [
       "<div>\n",
       "<style scoped>\n",
       "    .dataframe tbody tr th:only-of-type {\n",
       "        vertical-align: middle;\n",
       "    }\n",
       "\n",
       "    .dataframe tbody tr th {\n",
       "        vertical-align: top;\n",
       "    }\n",
       "\n",
       "    .dataframe thead th {\n",
       "        text-align: right;\n",
       "    }\n",
       "</style>\n",
       "<table border=\"1\" class=\"dataframe\">\n",
       "  <thead>\n",
       "    <tr style=\"text-align: right;\">\n",
       "      <th></th>\n",
       "      <th>label_names</th>\n",
       "      <th>label_values</th>\n",
       "      <th>label_array</th>\n",
       "    </tr>\n",
       "  </thead>\n",
       "  <tbody>\n",
       "    <tr>\n",
       "      <th>0</th>\n",
       "      <td>T_AF</td>\n",
       "      <td>0</td>\n",
       "      <td>0</td>\n",
       "    </tr>\n",
       "    <tr>\n",
       "      <th>1</th>\n",
       "      <td>T_CB</td>\n",
       "      <td>1</td>\n",
       "      <td>1</td>\n",
       "    </tr>\n",
       "    <tr>\n",
       "      <th>2</th>\n",
       "      <td>T_CC1</td>\n",
       "      <td>2</td>\n",
       "      <td>2</td>\n",
       "    </tr>\n",
       "    <tr>\n",
       "      <th>3</th>\n",
       "      <td>T_CC2</td>\n",
       "      <td>3</td>\n",
       "      <td>3</td>\n",
       "    </tr>\n",
       "    <tr>\n",
       "      <th>4</th>\n",
       "      <td>T_CC3</td>\n",
       "      <td>4</td>\n",
       "      <td>4</td>\n",
       "    </tr>\n",
       "    <tr>\n",
       "      <th>5</th>\n",
       "      <td>T_CC4</td>\n",
       "      <td>5</td>\n",
       "      <td>5</td>\n",
       "    </tr>\n",
       "    <tr>\n",
       "      <th>6</th>\n",
       "      <td>T_CC5</td>\n",
       "      <td>6</td>\n",
       "      <td>6</td>\n",
       "    </tr>\n",
       "    <tr>\n",
       "      <th>7</th>\n",
       "      <td>T_CC6</td>\n",
       "      <td>7</td>\n",
       "      <td>7</td>\n",
       "    </tr>\n",
       "    <tr>\n",
       "      <th>8</th>\n",
       "      <td>T_CC7</td>\n",
       "      <td>8</td>\n",
       "      <td>8</td>\n",
       "    </tr>\n",
       "    <tr>\n",
       "      <th>9</th>\n",
       "      <td>T_CPC</td>\n",
       "      <td>9</td>\n",
       "      <td>9</td>\n",
       "    </tr>\n",
       "    <tr>\n",
       "      <th>10</th>\n",
       "      <td>T_CR-F</td>\n",
       "      <td>10</td>\n",
       "      <td>10</td>\n",
       "    </tr>\n",
       "    <tr>\n",
       "      <th>11</th>\n",
       "      <td>T_CR-P</td>\n",
       "      <td>11</td>\n",
       "      <td>11</td>\n",
       "    </tr>\n",
       "    <tr>\n",
       "      <th>12</th>\n",
       "      <td>T_CST</td>\n",
       "      <td>12</td>\n",
       "      <td>12</td>\n",
       "    </tr>\n",
       "    <tr>\n",
       "      <th>13</th>\n",
       "      <td>T_EC</td>\n",
       "      <td>13</td>\n",
       "      <td>13</td>\n",
       "    </tr>\n",
       "    <tr>\n",
       "      <th>14</th>\n",
       "      <td>T_EmC</td>\n",
       "      <td>14</td>\n",
       "      <td>14</td>\n",
       "    </tr>\n",
       "    <tr>\n",
       "      <th>15</th>\n",
       "      <td>T_ICP</td>\n",
       "      <td>15</td>\n",
       "      <td>15</td>\n",
       "    </tr>\n",
       "    <tr>\n",
       "      <th>16</th>\n",
       "      <td>T_ILF</td>\n",
       "      <td>16</td>\n",
       "      <td>16</td>\n",
       "    </tr>\n",
       "    <tr>\n",
       "      <th>17</th>\n",
       "      <td>T_IOFF</td>\n",
       "      <td>17</td>\n",
       "      <td>17</td>\n",
       "    </tr>\n",
       "    <tr>\n",
       "      <th>18</th>\n",
       "      <td>T_CBLM</td>\n",
       "      <td>18</td>\n",
       "      <td>18</td>\n",
       "    </tr>\n",
       "    <tr>\n",
       "      <th>19</th>\n",
       "      <td>T_MCP</td>\n",
       "      <td>19</td>\n",
       "      <td>19</td>\n",
       "    </tr>\n",
       "    <tr>\n",
       "      <th>20</th>\n",
       "      <td>T_MdLF</td>\n",
       "      <td>20</td>\n",
       "      <td>20</td>\n",
       "    </tr>\n",
       "    <tr>\n",
       "      <th>21</th>\n",
       "      <td>T_PLIC</td>\n",
       "      <td>21</td>\n",
       "      <td>21</td>\n",
       "    </tr>\n",
       "    <tr>\n",
       "      <th>22</th>\n",
       "      <td>T_SF</td>\n",
       "      <td>22</td>\n",
       "      <td>22</td>\n",
       "    </tr>\n",
       "    <tr>\n",
       "      <th>23</th>\n",
       "      <td>T_SLF-III</td>\n",
       "      <td>23</td>\n",
       "      <td>23</td>\n",
       "    </tr>\n",
       "    <tr>\n",
       "      <th>24</th>\n",
       "      <td>T_SLF-II</td>\n",
       "      <td>24</td>\n",
       "      <td>24</td>\n",
       "    </tr>\n",
       "    <tr>\n",
       "      <th>25</th>\n",
       "      <td>T_SLF-I</td>\n",
       "      <td>25</td>\n",
       "      <td>25</td>\n",
       "    </tr>\n",
       "    <tr>\n",
       "      <th>26</th>\n",
       "      <td>T_SO</td>\n",
       "      <td>26</td>\n",
       "      <td>26</td>\n",
       "    </tr>\n",
       "    <tr>\n",
       "      <th>27</th>\n",
       "      <td>T_SP</td>\n",
       "      <td>27</td>\n",
       "      <td>27</td>\n",
       "    </tr>\n",
       "    <tr>\n",
       "      <th>28</th>\n",
       "      <td>T_Sup</td>\n",
       "      <td>28</td>\n",
       "      <td>28</td>\n",
       "    </tr>\n",
       "    <tr>\n",
       "      <th>29</th>\n",
       "      <td>T_TF</td>\n",
       "      <td>29</td>\n",
       "      <td>29</td>\n",
       "    </tr>\n",
       "    <tr>\n",
       "      <th>30</th>\n",
       "      <td>T_TO</td>\n",
       "      <td>30</td>\n",
       "      <td>30</td>\n",
       "    </tr>\n",
       "    <tr>\n",
       "      <th>31</th>\n",
       "      <td>T_TP</td>\n",
       "      <td>31</td>\n",
       "      <td>31</td>\n",
       "    </tr>\n",
       "    <tr>\n",
       "      <th>32</th>\n",
       "      <td>T_UF</td>\n",
       "      <td>32</td>\n",
       "      <td>32</td>\n",
       "    </tr>\n",
       "    <tr>\n",
       "      <th>33</th>\n",
       "      <td>T_Others</td>\n",
       "      <td>33</td>\n",
       "      <td>33</td>\n",
       "    </tr>\n",
       "  </tbody>\n",
       "</table>\n",
       "</div>"
      ],
      "text/plain": [
       "   label_names  label_values  label_array\n",
       "0         T_AF             0            0\n",
       "1         T_CB             1            1\n",
       "2        T_CC1             2            2\n",
       "3        T_CC2             3            3\n",
       "4        T_CC3             4            4\n",
       "5        T_CC4             5            5\n",
       "6        T_CC5             6            6\n",
       "7        T_CC6             7            7\n",
       "8        T_CC7             8            8\n",
       "9        T_CPC             9            9\n",
       "10      T_CR-F            10           10\n",
       "11      T_CR-P            11           11\n",
       "12       T_CST            12           12\n",
       "13        T_EC            13           13\n",
       "14       T_EmC            14           14\n",
       "15       T_ICP            15           15\n",
       "16       T_ILF            16           16\n",
       "17      T_IOFF            17           17\n",
       "18      T_CBLM            18           18\n",
       "19       T_MCP            19           19\n",
       "20      T_MdLF            20           20\n",
       "21      T_PLIC            21           21\n",
       "22        T_SF            22           22\n",
       "23   T_SLF-III            23           23\n",
       "24    T_SLF-II            24           24\n",
       "25     T_SLF-I            25           25\n",
       "26        T_SO            26           26\n",
       "27        T_SP            27           27\n",
       "28       T_Sup            28           28\n",
       "29        T_TF            29           29\n",
       "30        T_TO            30           30\n",
       "31        T_TP            31           31\n",
       "32        T_UF            32           32\n",
       "33    T_Others            33           33"
      ]
     },
     "execution_count": 37,
     "metadata": {},
     "output_type": "execute_result"
    }
   ],
   "source": [
    "df_2"
   ]
  },
  {
   "cell_type": "code",
   "execution_count": null,
   "metadata": {},
   "outputs": [],
   "source": [
    "\n",
    "df = df.rename(columns = {0:'label_values'})"
   ]
  },
  {
   "cell_type": "code",
   "execution_count": null,
   "metadata": {},
   "outputs": [
    {
     "name": "stdout",
     "output_type": "stream",
     "text": [
      "       label_values label_names\n",
      "0                12       T_CST\n",
      "1                33    T_Others\n",
      "2                33    T_Others\n",
      "3                33    T_Others\n",
      "4                15       T_ICP\n",
      "...             ...         ...\n",
      "19995            11      T_CR-P\n",
      "19996            11      T_CR-P\n",
      "19997            11      T_CR-P\n",
      "19998            11      T_CR-P\n",
      "19999            11      T_CR-P\n",
      "\n",
      "[20000 rows x 2 columns]\n"
     ]
    }
   ],
   "source": [
    "label_mapping = dict(df_2[['label_values', 'label_names']].values)\n",
    "df['label_names'] = df.label_values.map(label_mapping)\n",
    "print(df)"
   ]
  },
  {
   "cell_type": "code",
   "execution_count": null,
   "metadata": {},
   "outputs": [
    {
     "data": {
      "text/plain": [
       "array([12, 33, 15, 18, 11, 19,  9, 10, 28,  1, 16, 21, 26, 32, 20,  7, 31,\n",
       "        0, 30, 14,  8, 29, 22, 27, 25,  3, 23, 17,  4,  5,  6, 24])"
      ]
     },
     "execution_count": 43,
     "metadata": {},
     "output_type": "execute_result"
    }
   ],
   "source": [
    "df.label_values.unique()"
   ]
  },
  {
   "cell_type": "code",
   "execution_count": null,
   "metadata": {},
   "outputs": [],
   "source": [
    "df['label_names'].to_hdf('/home/ang/Documents/GitHub/DeepWMA/999999_labels.h5', key ='label_names', mode='w')\n",
    "df['label_values'].to_hdf('/home/ang/Documents/GitHub/DeepWMA/999999_labels.h5', key ='label_array')\n"
   ]
  },
  {
   "cell_type": "code",
   "execution_count": 65,
   "metadata": {},
   "outputs": [],
   "source": [
    "df['label_values'].to_numpy()\n",
    "label_names_col = df['label_names'].to_numpy()\n",
    "\n"
   ]
  },
  {
   "cell_type": "code",
   "execution_count": 69,
   "metadata": {},
   "outputs": [],
   "source": [
    "label_ascii = [n.encode(\"ascii\", \"ignore\") for n in label_names_col]"
   ]
  },
  {
   "cell_type": "markdown",
   "metadata": {},
   "source": []
  },
  {
   "cell_type": "code",
   "execution_count": 72,
   "metadata": {},
   "outputs": [],
   "source": [
    "with h5py.File('/home/ang/Documents/GitHub/DeepWMA/data/909090/909090_labels_new.h5', 'w') as hdf:\n",
    "    hdf.create_dataset('label_array', data=df['label_values'].to_numpy())\n",
    "    hdf.create_dataset('label_names', data=label_ascii)"
   ]
  },
  {
   "cell_type": "code",
   "execution_count": null,
   "metadata": {},
   "outputs": [],
   "source": [
    "filename=\"/home/ang/Documents/GitHub/DeepWMA/SegModels/CNN/cnn_model.h5\"\n",
    "with h5py.File(filename, \"r\") as f:\n",
    "        # List all groups\n",
    "        print(\"Keys: %s\" % f.keys())\n",
    "        a_group_key = list(f.keys())[0]\n",
    "\n",
    "        # Get the data\n",
    "        data = list(f[a_group_key])\n",
    "        print(data)\n",
    "        print(len(data))"
   ]
  },
  {
   "cell_type": "code",
   "execution_count": 53,
   "metadata": {},
   "outputs": [
    {
     "name": "stdout",
     "output_type": "stream",
     "text": [
      "Keys: <KeysViewHDF5 ['feat']>\n",
      "20000\n"
     ]
    }
   ],
   "source": [
    "\n",
    "inputFeature=\"/home/ang/Documents/GitHub/DeepWMA/data/909090/909090_featMatrix.h5\"\n",
    "with h5py.File(inputFeature, \"r\") as f:\n",
    "        # List all groups\n",
    "        print(\"Keys: %s\" % f.keys())\n",
    "        a_group_key = list(f.keys())[0]\n",
    "\n",
    "        # Get the data\n",
    "        data = list(f[a_group_key])\n",
    "        print(len(data))"
   ]
  },
  {
   "cell_type": "code",
   "execution_count": 59,
   "metadata": {},
   "outputs": [
    {
     "name": "stdout",
     "output_type": "stream",
     "text": [
      "Keys: <KeysViewHDF5 ['label_array', 'label_names']>\n",
      "2\n",
      "<HDF5 group \"/label_array\" (2 members)>\n"
     ]
    }
   ],
   "source": [
    "\n",
    "inputFeature=\"/home/ang/Documents/GitHub/DeepWMA/data/909090/909090_labels.h5\"\n",
    "with h5py.File(inputFeature, \"r\") as f:\n",
    "        # List all groups\n",
    "        print(\"Keys: %s\" % f.keys())\n",
    "        a_group_key = list(f.keys())[0]\n",
    "\n",
    "        # Get the data\n",
    "        data = list(f[a_group_key])\n",
    "        print(len(data))\n",
    "        print(f['label_array'])"
   ]
  },
  {
   "cell_type": "code",
   "execution_count": null,
   "metadata": {},
   "outputs": [],
   "source": []
  }
 ],
 "metadata": {
  "kernelspec": {
   "display_name": "Python 3.6.10 ('SupWMA')",
   "language": "python",
   "name": "python3"
  },
  "language_info": {
   "codemirror_mode": {
    "name": "ipython",
    "version": 3
   },
   "file_extension": ".py",
   "mimetype": "text/x-python",
   "name": "python",
   "nbconvert_exporter": "python",
   "pygments_lexer": "ipython3",
   "version": "3.6.10"
  },
  "orig_nbformat": 4,
  "vscode": {
   "interpreter": {
    "hash": "36aec90b5a07fafc043f146ab1db38cbda9ca0590150a6d49f81c4cf72882f5a"
   }
  }
 },
 "nbformat": 4,
 "nbformat_minor": 2
}
