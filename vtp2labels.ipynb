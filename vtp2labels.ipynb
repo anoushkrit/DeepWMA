{
 "cells": [
  {
   "cell_type": "markdown",
   "metadata": {},
   "source": [
    "## feat_matrix \n",
    "\n",
    "1. reduce the size of each feature matrix for each .vtp fiber bundle (basis of a percentage 10)\n",
    "2. attach label to each feat_matrix.h5 file using label mapping\n",
    "3. combine the 54 tracts mentioned in the supplementary of the paper"
   ]
  },
  {
   "cell_type": "code",
   "execution_count": 1,
   "metadata": {},
   "outputs": [
    {
     "name": "stdout",
     "output_type": "stream",
     "text": [
      "Keys: <KeysViewHDF5 ['feat']>\n",
      "44656\n",
      "30\n",
      "10\n",
      "<class 'h5py._hl.dataset.Dataset'>\n",
      "2232\n",
      "<class 'numpy.ndarray'>\n"
     ]
    }
   ],
   "source": [
    "import h5py\n",
    "AF_left_feat_path = \"/media/ang/Data/unnerve_data/779370/779370_T_AF_left_featMatrix.h5\"\n",
    "\n",
    "# read feat_matrix\n",
    "with h5py.File(AF_left_feat_path, \"r\") as f:\n",
    "        # List all groups\n",
    "        print(\"Keys: %s\" % f.keys())\n",
    "        h_keys = list(f.keys())[0]\n",
    "\n",
    "        # Get the data\n",
    "        data = list(f[h_keys])\n",
    "        print(len(data))\n",
    "        print(len(f[h_keys][0]))\n",
    "\n",
    "        print(len(f[h_keys][0][0:10]))\n",
    "        print(type(f[h_keys]))\n",
    "        print(int(len(f[h_keys])/20))\n",
    "        compressed_data = f[h_keys][0: int(len(f[h_keys]))]\n",
    "        print(type(compressed_data))\n",
    "        \n",
    "\n",
    "# reduce the size of feature_matrix\n",
    "\n"
   ]
  },
  {
   "cell_type": "code",
   "execution_count": 3,
   "metadata": {},
   "outputs": [],
   "source": [
    "label_mapping_72 = pd.read_csv(\"/home/ang/Documents/GitHub/DeepWMA/labels_reference.csv\", names=[\"label_names\", \"label_array\"])\n",
    "# label_mapping_54 =  pd.read_csv(\"/home/ang/Documents/GitHub/DeepWMA/labels_reference_54.csv\", names=[\"label_names\", \"label_array\"])\n",
    "label_mapping_72['label_names'] = label_mapping_72['label_names'].astype('|S')\n"
   ]
  },
  {
   "cell_type": "code",
   "execution_count": 4,
   "metadata": {},
   "outputs": [
    {
     "data": {
      "text/plain": [
       "67"
      ]
     },
     "execution_count": 4,
     "metadata": {},
     "output_type": "execute_result"
    }
   ],
   "source": [
    "label_mapping_72.loc[label_mapping_72.label_names == bytes('T_PREF_right', 'utf-8'),'label_array'].values[0]"
   ]
  },
  {
   "cell_type": "code",
   "execution_count": 5,
   "metadata": {},
   "outputs": [
    {
     "name": "stdout",
     "output_type": "stream",
     "text": [
      "AF_left 0\n",
      "AF_right 1\n",
      "ATR_left 2\n",
      "ATR_right 3\n",
      "CA 4\n",
      "CC_1 5\n",
      "CC_2 6\n",
      "CC_3 7\n",
      "CC_4 8\n",
      "CC_5 9\n",
      "CC_6 10\n",
      "CC_7 11\n",
      "CC 12\n",
      "CG_right 14\n",
      "CST_left 15\n",
      "CST_right 16\n",
      "FPT_left 17\n",
      "FPT_right 18\n",
      "FX_left 19\n",
      "FX_right 20\n",
      "ICP_left 21\n",
      "ICP_right 22\n",
      "IFO_left 23\n",
      "IFO_right 24\n",
      "ILF_left 25\n",
      "ILF_right 26\n",
      "MLF_left 28\n",
      "MLF_right 29\n",
      "OR_left 30\n",
      "OR_right 31\n",
      "POPT_left 32\n",
      "POPT_right 33\n",
      "SCP_left 34\n",
      "SCP_right 35\n",
      "SLF_III_left 36\n",
      "SLF_III_right 37\n",
      "SLF_II_left 38\n",
      "SLF_II_right 39\n",
      "SLF_I_left 40\n",
      "STR_left 56\n",
      "STR_right 57\n",
      "ST_FO_left 42\n",
      "ST_FO_right 43\n",
      "ST_OCC_left 44\n",
      "ST_OCC_right 45\n",
      "ST_PAR_left 46\n",
      "ST_PAR_right 47\n",
      "ST_POSTC_left 48\n",
      "ST_POSTC_right 49\n",
      "ST_PREC_left 50\n",
      "ST_PREC_right 51\n",
      "ST_PREF_left 52\n",
      "CG_left 13\n",
      "MCP 27\n",
      "SLF_I_right 41\n",
      "ST_PREF_right 53\n",
      "ST_PREM_left 54\n",
      "ST_PREM_right 55\n",
      "T_OCC_left 58\n",
      "T_OCC_right 59\n",
      "T_PAR_left 60\n",
      "T_PAR_right 61\n",
      "T_POSTC_left 62\n",
      "T_POSTC_right 63\n",
      "T_PREC_left 64\n",
      "T_PREC_right 65\n",
      "T_PREF_left 66\n",
      "T_PREF_right 67\n",
      "T_PREM_left 68\n",
      "T_PREM_right 69\n",
      "UF_left 70\n",
      "UF_right 71\n"
     ]
    }
   ],
   "source": [
    "\n",
    "# feat_array = np.random.random(size=(44656, 30, 30, 3))\n",
    "label_hdf_dtype = np.dtype([('label_names', 'a30'), ('label_values', int), ('label_array', int)])\n",
    "# see whether it is required\n",
    "feat_hdf_dtype = np.dtype(['feat', np.ndarray])\n",
    "\n",
    "\n",
    "subject_ID=\"779370\"\n",
    "# pass this subject ID from the bash file code\n",
    "output_folder=\"/media/ang/Data/unnerve_data/\".format(subject_ID)\n",
    "fiber_tract='T_AF_LEFT'\n",
    "# either search for a list of names in the whole string path (find and replace type)\n",
    "\n",
    "feat_matrix= \"/media/ang/Data/unnerve_data/779370/779370_T_AF_left_featMatrix.h5\"\n",
    "\n",
    "for filename in os.listdir(\"/media/ang/Data/unnerve_data/779370/\"):\n",
    "    if filename.endswith((\".h5\")):\n",
    "        if \".vtk\" not in filename:\n",
    "            if \"atlas\" not in filename:\n",
    "                tract_name = filename.replace(subject_ID + \"_T_\", \"\").replace(\"_featMatrix.h5\", \"\")\n",
    "                tract_label = label_mapping_72.loc[label_mapping_72.label_names == bytes(tract_name, 'utf-8'),'label_array'].item()\n",
    "                print(tract_name, tract_label)\n",
    "\n",
    "                # limit the size of the numpy array to 5% of the array so that the error of big size can be resolved \n",
    "    else: \n",
    "        continue\n",
    "        \n",
    "\n"
   ]
  },
  {
   "cell_type": "code",
   "execution_count": 6,
   "metadata": {},
   "outputs": [],
   "source": [
    "# limit the size of the numpy array to 5% of the array so that the error of big size can be resolved \n",
    "reducing_fraction = 0.05\n",
    "feat_label_value = 1\n",
    "feat_label_name = 'AF_right'\n",
    "feat_label=np.empty(feat_array.shape[0], dtype=label_hdf_dtype)\n",
    "# h5_feat_label = h5py.File('.h5', 'w')\n",
    "# h5_feat_label.create_dataset('dataset_1', data=feat_label)\n"
   ]
  },
  {
   "cell_type": "markdown",
   "metadata": {},
   "source": []
  },
  {
   "cell_type": "code",
   "execution_count": 7,
   "metadata": {},
   "outputs": [],
   "source": [
    "# feat_label.fill((bytes(feat_label_name, 'utf-8'), feat_label_value, feat_label_value))\n",
    "feat_label.fill(('AF_right', feat_label_value, feat_label_value))"
   ]
  },
  {
   "cell_type": "code",
   "execution_count": 8,
   "metadata": {},
   "outputs": [
    {
     "data": {
      "text/plain": [
       "array([(b'AF_right', 1, 1), (b'AF_right', 1, 1), (b'AF_right', 1, 1), ...,\n",
       "       (b'AF_right', 1, 1), (b'AF_right', 1, 1), (b'AF_right', 1, 1)],\n",
       "      dtype=[('label_names', 'S30'), ('label_values', '<i8'), ('label_array', '<i8')])"
      ]
     },
     "execution_count": 8,
     "metadata": {},
     "output_type": "execute_result"
    }
   ],
   "source": [
    "feat_label"
   ]
  },
  {
   "cell_type": "code",
   "execution_count": 9,
   "metadata": {},
   "outputs": [
    {
     "data": {
      "text/plain": [
       "(2232, 30, 30, 3)"
      ]
     },
     "execution_count": 9,
     "metadata": {},
     "output_type": "execute_result"
    }
   ],
   "source": [
    "feat_label[0:int(0.05*feat_label.shape[0])].shape\n",
    "feat_array[0:int(reducing_fraction*feat_array.shape[0])].shape\n"
   ]
  },
  {
   "cell_type": "code",
   "execution_count": 10,
   "metadata": {},
   "outputs": [],
   "source": [
    "feat_array_reduced = feat_array[0:int(reducing_fraction*feat_array.shape[0])]\n",
    "feat_array_reduced.shape\n",
    "feat_label_reduced = feat_label[0:int(reducing_fraction*feat_array.shape[0])]"
   ]
  },
  {
   "cell_type": "code",
   "execution_count": 11,
   "metadata": {},
   "outputs": [
    {
     "data": {
      "text/plain": [
       "<HDF5 dataset \"AF_right_featMatrix.h5\": shape (2232, 30, 30, 3), type \"<f8\">"
      ]
     },
     "execution_count": 11,
     "metadata": {},
     "output_type": "execute_result"
    }
   ],
   "source": [
    "# convert to .h5 from numpy array\n",
    "\n",
    "h5_feat_label = h5py.File(\"/media/ang/Data/data/779370/AF_right_labels.h5\", 'w')\n",
    "h5_feat_label.create_dataset(\"/media/ang/Data/data/779370/AF_right_labels.h5\", data=feat_label_reduced)\n",
    "\n",
    "h5_feat_array = h5py.File(\"/media/ang/Data/data/779370/AF_right_featMatrix.h5\", 'w')\n",
    "h5_feat_array.create_dataset(\"/media/ang/Data/data/779370/AF_right_featMatrix.h5\", data=feat_array_reduced)\n"
   ]
  },
  {
   "cell_type": "code",
   "execution_count": 17,
   "metadata": {},
   "outputs": [
    {
     "name": "stdout",
     "output_type": "stream",
     "text": [
      "Keys: <KeysViewHDF5 ['feat']>\n",
      "[[[[ 15.35179996  16.60079956 -14.50759983]\n",
      "   [ 14.23649979  18.50139999 -11.70650005]\n",
      "   [ 14.23649979  18.50139999 -11.70650005]\n",
      "   ...\n",
      "   [ 14.23649979  18.50139999 -11.70650005]\n",
      "   [ 14.23649979  18.50139999 -11.70650005]\n",
      "   [ 15.35179996  16.60079956 -14.50759983]]\n",
      "\n",
      "  [[-11.3657999   27.36170006 -12.38759995]\n",
      "   [-11.07960033  27.10510063 -11.66189957]\n",
      "   [-11.07960033  27.10510063 -11.66189957]\n",
      "   ...\n",
      "   [-11.07960033  27.10510063 -11.66189957]\n",
      "   [-11.07960033  27.10510063 -11.66189957]\n",
      "   [-11.3657999   27.36170006 -12.38759995]]\n",
      "\n",
      "  [[ 15.35179996  16.60079956 -14.50759983]\n",
      "   [ 14.23649979  18.50139999 -11.70650005]\n",
      "   [ 14.23649979  18.50139999 -11.70650005]\n",
      "   ...\n",
      "   [ 14.23649979  18.50139999 -11.70650005]\n",
      "   [ 14.23649979  18.50139999 -11.70650005]\n",
      "   [ 15.35179996  16.60079956 -14.50759983]]\n",
      "\n",
      "  ...\n",
      "\n",
      "  [[-11.3657999   27.36170006 -12.38759995]\n",
      "   [-11.07960033  27.10510063 -11.66189957]\n",
      "   [-11.07960033  27.10510063 -11.66189957]\n",
      "   ...\n",
      "   [-11.07960033  27.10510063 -11.66189957]\n",
      "   [-11.07960033  27.10510063 -11.66189957]\n",
      "   [-11.3657999   27.36170006 -12.38759995]]\n",
      "\n",
      "  [[ 15.35179996  16.60079956 -14.50759983]\n",
      "   [ 14.23649979  18.50139999 -11.70650005]\n",
      "   [ 14.23649979  18.50139999 -11.70650005]\n",
      "   ...\n",
      "   [ 14.23649979  18.50139999 -11.70650005]\n",
      "   [ 14.23649979  18.50139999 -11.70650005]\n",
      "   [ 15.35179996  16.60079956 -14.50759983]]\n",
      "\n",
      "  [[-11.3657999   27.36170006 -12.38759995]\n",
      "   [-11.07960033  27.10510063 -11.66189957]\n",
      "   [-11.07960033  27.10510063 -11.66189957]\n",
      "   ...\n",
      "   [-11.07960033  27.10510063 -11.66189957]\n",
      "   [-11.07960033  27.10510063 -11.66189957]\n",
      "   [-11.3657999   27.36170006 -12.38759995]]]\n",
      "\n",
      "\n",
      " [[[-14.09010029  19.68910027 -12.52540016]\n",
      "   [-11.37199974  20.93759918 -10.23320007]\n",
      "   [ -8.59158039  21.90509987  -6.44178009]\n",
      "   ...\n",
      "   [ -8.59158039  21.90509987  -6.44178009]\n",
      "   [-11.37199974  20.93759918 -10.23320007]\n",
      "   [-14.09010029  19.68910027 -12.52540016]]\n",
      "\n",
      "  [[ 21.79380035   8.9905901  -16.99749947]\n",
      "   [ 21.64609909   8.97591019 -14.81550026]\n",
      "   [ 19.44039917  11.7809     -12.48460007]\n",
      "   ...\n",
      "   [ 19.44039917  11.7809     -12.48460007]\n",
      "   [ 21.64609909   8.97591019 -14.81550026]\n",
      "   [ 21.79380035   8.9905901  -16.99749947]]\n",
      "\n",
      "  [[-14.09010029  19.68910027 -12.52540016]\n",
      "   [-11.37199974  20.93759918 -10.23320007]\n",
      "   [ -8.59158039  21.90509987  -6.44178009]\n",
      "   ...\n",
      "   [ -8.59158039  21.90509987  -6.44178009]\n",
      "   [-11.37199974  20.93759918 -10.23320007]\n",
      "   [-14.09010029  19.68910027 -12.52540016]]\n",
      "\n",
      "  ...\n",
      "\n",
      "  [[ 21.79380035   8.9905901  -16.99749947]\n",
      "   [ 21.64609909   8.97591019 -14.81550026]\n",
      "   [ 19.44039917  11.7809     -12.48460007]\n",
      "   ...\n",
      "   [ 19.44039917  11.7809     -12.48460007]\n",
      "   [ 21.64609909   8.97591019 -14.81550026]\n",
      "   [ 21.79380035   8.9905901  -16.99749947]]\n",
      "\n",
      "  [[-14.09010029  19.68910027 -12.52540016]\n",
      "   [-11.37199974  20.93759918 -10.23320007]\n",
      "   [ -8.59158039  21.90509987  -6.44178009]\n",
      "   ...\n",
      "   [ -8.59158039  21.90509987  -6.44178009]\n",
      "   [-11.37199974  20.93759918 -10.23320007]\n",
      "   [-14.09010029  19.68910027 -12.52540016]]\n",
      "\n",
      "  [[ 21.79380035   8.9905901  -16.99749947]\n",
      "   [ 21.64609909   8.97591019 -14.81550026]\n",
      "   [ 19.44039917  11.7809     -12.48460007]\n",
      "   ...\n",
      "   [ 19.44039917  11.7809     -12.48460007]\n",
      "   [ 21.64609909   8.97591019 -14.81550026]\n",
      "   [ 21.79380035   8.9905901  -16.99749947]]]\n",
      "\n",
      "\n",
      " [[[ 21.80750084   9.28528976 -11.8149004 ]\n",
      "   [ 18.93759918  11.60859966 -12.45110035]\n",
      "   [ 12.40869999  17.82439995  -9.32011032]\n",
      "   ...\n",
      "   [ 12.40869999  17.82439995  -9.32011032]\n",
      "   [ 18.93759918  11.60859966 -12.45110035]\n",
      "   [ 21.80750084   9.28528976 -11.8149004 ]]\n",
      "\n",
      "  [[-13.13059998  32.60150146 -18.40670013]\n",
      "   [-13.83860016  30.31529999 -17.02619934]\n",
      "   [-15.42210007  28.04210091 -13.34739971]\n",
      "   ...\n",
      "   [-15.42210007  28.04210091 -13.34739971]\n",
      "   [-13.83860016  30.31529999 -17.02619934]\n",
      "   [-13.13059998  32.60150146 -18.40670013]]\n",
      "\n",
      "  [[ 21.80750084   9.28528976 -11.8149004 ]\n",
      "   [ 18.93759918  11.60859966 -12.45110035]\n",
      "   [ 12.40869999  17.82439995  -9.32011032]\n",
      "   ...\n",
      "   [ 12.40869999  17.82439995  -9.32011032]\n",
      "   [ 18.93759918  11.60859966 -12.45110035]\n",
      "   [ 21.80750084   9.28528976 -11.8149004 ]]\n",
      "\n",
      "  ...\n",
      "\n",
      "  [[-13.13059998  32.60150146 -18.40670013]\n",
      "   [-13.83860016  30.31529999 -17.02619934]\n",
      "   [-15.42210007  28.04210091 -13.34739971]\n",
      "   ...\n",
      "   [-15.42210007  28.04210091 -13.34739971]\n",
      "   [-13.83860016  30.31529999 -17.02619934]\n",
      "   [-13.13059998  32.60150146 -18.40670013]]\n",
      "\n",
      "  [[ 21.80750084   9.28528976 -11.8149004 ]\n",
      "   [ 18.93759918  11.60859966 -12.45110035]\n",
      "   [ 12.40869999  17.82439995  -9.32011032]\n",
      "   ...\n",
      "   [ 12.40869999  17.82439995  -9.32011032]\n",
      "   [ 18.93759918  11.60859966 -12.45110035]\n",
      "   [ 21.80750084   9.28528976 -11.8149004 ]]\n",
      "\n",
      "  [[-13.13059998  32.60150146 -18.40670013]\n",
      "   [-13.83860016  30.31529999 -17.02619934]\n",
      "   [-15.42210007  28.04210091 -13.34739971]\n",
      "   ...\n",
      "   [-15.42210007  28.04210091 -13.34739971]\n",
      "   [-13.83860016  30.31529999 -17.02619934]\n",
      "   [-13.13059998  32.60150146 -18.40670013]]]\n",
      "\n",
      "\n",
      " ...\n",
      "\n",
      "\n",
      " [[[  3.00076008  23.73880005 -18.20219994]\n",
      "   [  5.12996006  23.46209908 -13.23480034]\n",
      "   [  6.90849018  19.63249969  -6.0267601 ]\n",
      "   ...\n",
      "   [  6.90849018  19.63249969  -6.0267601 ]\n",
      "   [  5.12996006  23.46209908 -13.23480034]\n",
      "   [  3.00076008  23.73880005 -18.20219994]]\n",
      "\n",
      "  [[ -6.78448009  58.23500061 -19.59259987]\n",
      "   [ -9.30064011  56.59069824 -18.69890022]\n",
      "   [-12.14009953  50.05319977 -15.6864996 ]\n",
      "   ...\n",
      "   [-12.14009953  50.05319977 -15.6864996 ]\n",
      "   [ -9.30064011  56.59069824 -18.69890022]\n",
      "   [ -6.78448009  58.23500061 -19.59259987]]\n",
      "\n",
      "  [[  3.00076008  23.73880005 -18.20219994]\n",
      "   [  5.12996006  23.46209908 -13.23480034]\n",
      "   [  6.90849018  19.63249969  -6.0267601 ]\n",
      "   ...\n",
      "   [  6.90849018  19.63249969  -6.0267601 ]\n",
      "   [  5.12996006  23.46209908 -13.23480034]\n",
      "   [  3.00076008  23.73880005 -18.20219994]]\n",
      "\n",
      "  ...\n",
      "\n",
      "  [[ -6.78448009  58.23500061 -19.59259987]\n",
      "   [ -9.30064011  56.59069824 -18.69890022]\n",
      "   [-12.14009953  50.05319977 -15.6864996 ]\n",
      "   ...\n",
      "   [-12.14009953  50.05319977 -15.6864996 ]\n",
      "   [ -9.30064011  56.59069824 -18.69890022]\n",
      "   [ -6.78448009  58.23500061 -19.59259987]]\n",
      "\n",
      "  [[  3.00076008  23.73880005 -18.20219994]\n",
      "   [  5.12996006  23.46209908 -13.23480034]\n",
      "   [  6.90849018  19.63249969  -6.0267601 ]\n",
      "   ...\n",
      "   [  6.90849018  19.63249969  -6.0267601 ]\n",
      "   [  5.12996006  23.46209908 -13.23480034]\n",
      "   [  3.00076008  23.73880005 -18.20219994]]\n",
      "\n",
      "  [[ -6.78448009  58.23500061 -19.59259987]\n",
      "   [ -9.30064011  56.59069824 -18.69890022]\n",
      "   [-12.14009953  50.05319977 -15.6864996 ]\n",
      "   ...\n",
      "   [-12.14009953  50.05319977 -15.6864996 ]\n",
      "   [ -9.30064011  56.59069824 -18.69890022]\n",
      "   [ -6.78448009  58.23500061 -19.59259987]]]\n",
      "\n",
      "\n",
      " [[[ -7.28885984  59.37939835 -19.37770081]\n",
      "   [ -7.62434006  58.24549866 -18.70680046]\n",
      "   [-12.22490025  53.51250076 -14.24810028]\n",
      "   ...\n",
      "   [-12.22490025  53.51250076 -14.24810028]\n",
      "   [ -7.62434006  58.24549866 -18.70680046]\n",
      "   [ -7.28885984  59.37939835 -19.37770081]]\n",
      "\n",
      "  [[  9.77556992  40.77600098 -12.07540035]\n",
      "   [  9.76525021  40.38349915 -11.69299984]\n",
      "   [  9.80834007  30.60490036  -6.78684998]\n",
      "   ...\n",
      "   [  9.80834007  30.60490036  -6.78684998]\n",
      "   [  9.76525021  40.38349915 -11.69299984]\n",
      "   [  9.77556992  40.77600098 -12.07540035]]\n",
      "\n",
      "  [[ -7.28885984  59.37939835 -19.37770081]\n",
      "   [ -7.62434006  58.24549866 -18.70680046]\n",
      "   [-12.22490025  53.51250076 -14.24810028]\n",
      "   ...\n",
      "   [-12.22490025  53.51250076 -14.24810028]\n",
      "   [ -7.62434006  58.24549866 -18.70680046]\n",
      "   [ -7.28885984  59.37939835 -19.37770081]]\n",
      "\n",
      "  ...\n",
      "\n",
      "  [[  9.77556992  40.77600098 -12.07540035]\n",
      "   [  9.76525021  40.38349915 -11.69299984]\n",
      "   [  9.80834007  30.60490036  -6.78684998]\n",
      "   ...\n",
      "   [  9.80834007  30.60490036  -6.78684998]\n",
      "   [  9.76525021  40.38349915 -11.69299984]\n",
      "   [  9.77556992  40.77600098 -12.07540035]]\n",
      "\n",
      "  [[ -7.28885984  59.37939835 -19.37770081]\n",
      "   [ -7.62434006  58.24549866 -18.70680046]\n",
      "   [-12.22490025  53.51250076 -14.24810028]\n",
      "   ...\n",
      "   [-12.22490025  53.51250076 -14.24810028]\n",
      "   [ -7.62434006  58.24549866 -18.70680046]\n",
      "   [ -7.28885984  59.37939835 -19.37770081]]\n",
      "\n",
      "  [[  9.77556992  40.77600098 -12.07540035]\n",
      "   [  9.76525021  40.38349915 -11.69299984]\n",
      "   [  9.80834007  30.60490036  -6.78684998]\n",
      "   ...\n",
      "   [  9.80834007  30.60490036  -6.78684998]\n",
      "   [  9.76525021  40.38349915 -11.69299984]\n",
      "   [  9.77556992  40.77600098 -12.07540035]]]\n",
      "\n",
      "\n",
      " [[[ -4.97768021  59.43989944 -18.93569946]\n",
      "   [ -7.5178299   57.27949905 -16.43880081]\n",
      "   [ -9.07248974  56.06240082 -15.32660007]\n",
      "   ...\n",
      "   [ -9.07248974  56.06240082 -15.32660007]\n",
      "   [ -7.5178299   57.27949905 -16.43880081]\n",
      "   [ -4.97768021  59.43989944 -18.93569946]]\n",
      "\n",
      "  [[  8.43892002  37.29140091 -13.3409996 ]\n",
      "   [  8.64132977  36.86360168 -12.92850018]\n",
      "   [ 10.63309956  31.68989944 -10.22280025]\n",
      "   ...\n",
      "   [ 10.63309956  31.68989944 -10.22280025]\n",
      "   [  8.64132977  36.86360168 -12.92850018]\n",
      "   [  8.43892002  37.29140091 -13.3409996 ]]\n",
      "\n",
      "  [[ -4.97768021  59.43989944 -18.93569946]\n",
      "   [ -7.5178299   57.27949905 -16.43880081]\n",
      "   [ -9.07248974  56.06240082 -15.32660007]\n",
      "   ...\n",
      "   [ -9.07248974  56.06240082 -15.32660007]\n",
      "   [ -7.5178299   57.27949905 -16.43880081]\n",
      "   [ -4.97768021  59.43989944 -18.93569946]]\n",
      "\n",
      "  ...\n",
      "\n",
      "  [[  8.43892002  37.29140091 -13.3409996 ]\n",
      "   [  8.64132977  36.86360168 -12.92850018]\n",
      "   [ 10.63309956  31.68989944 -10.22280025]\n",
      "   ...\n",
      "   [ 10.63309956  31.68989944 -10.22280025]\n",
      "   [  8.64132977  36.86360168 -12.92850018]\n",
      "   [  8.43892002  37.29140091 -13.3409996 ]]\n",
      "\n",
      "  [[ -4.97768021  59.43989944 -18.93569946]\n",
      "   [ -7.5178299   57.27949905 -16.43880081]\n",
      "   [ -9.07248974  56.06240082 -15.32660007]\n",
      "   ...\n",
      "   [ -9.07248974  56.06240082 -15.32660007]\n",
      "   [ -7.5178299   57.27949905 -16.43880081]\n",
      "   [ -4.97768021  59.43989944 -18.93569946]]\n",
      "\n",
      "  [[  8.43892002  37.29140091 -13.3409996 ]\n",
      "   [  8.64132977  36.86360168 -12.92850018]\n",
      "   [ 10.63309956  31.68989944 -10.22280025]\n",
      "   ...\n",
      "   [ 10.63309956  31.68989944 -10.22280025]\n",
      "   [  8.64132977  36.86360168 -12.92850018]\n",
      "   [  8.43892002  37.29140091 -13.3409996 ]]]]\n"
     ]
    }
   ],
   "source": [
    "# for CC_1 with its featurea array and feat label\n",
    "CC_1_feat_path = \"/media/ang/Data/unnerve_data/779370/779370_T_CC_1_featMatrix.h5\"\n",
    "\n",
    "# read feat_matrix\n",
    "with h5py.File(CC_1_feat_path, \"r\") as f:\n",
    "        # List all groups\n",
    "        print(\"Keys: %s\" % f.keys())\n",
    "        h_keys = list(f.keys())[0]\n",
    "\n",
    "        # Get the data\n",
    "        # data = list(f[h_keys])\n",
    "        data = f.get('feat')[()]"
   ]
  },
  {
   "cell_type": "code",
   "execution_count": 18,
   "metadata": {},
   "outputs": [
    {
     "name": "stdout",
     "output_type": "stream",
     "text": [
      "Keys: <KeysViewHDF5 ['feat']>\n"
     ]
    }
   ],
   "source": [
    "# for CC_1 with its featurea array and feat label\n",
    "CC_1_feat_path = \"/media/ang/Data/unnerve_data/779370/779370_T_CC_1_featMatrix.h5\"\n",
    "\n",
    "# read feat_matrix\n",
    "with h5py.File(CC_1_feat_path, \"r\") as f:\n",
    "        # List all groups\n",
    "        print(\"Keys: %s\" % f.keys())\n",
    "        h_keys = list(f.keys())[0]\n",
    "\n",
    "        # Get the data\n",
    "        # data = list(f[h_keys])\n",
    "        data = f.get('feat')[()]\n",
    "        cc_feat_array = data\n",
    "        \n",
    "# print(type(np_data))\n",
    "# reduce the size of feature_matrix\n",
    "# cc_feat_array = feat\n",
    "cc_feat_label_value = 5\n",
    "cc_feat_label_name = 'CC_1'\n",
    "cc_feat_label=np.empty(cc_feat_array.shape[0], dtype=label_hdf_dtype)\n",
    "\n",
    "\n",
    "# limit the size of the numpy array to 5% of the array so that the error of big size can be resolved \n",
    "reducing_fraction = 0.05\n",
    "# h5_feat_label = h5py.File('.h5', 'w')\n",
    "# h5_feat_label.create_dataset('dataset_1', data=feat_label)\n",
    "\n",
    "cc_feat_label.fill((cc_feat_label_name, cc_feat_label_value, cc_feat_label_value))\n",
    "n_tracts = int(reducing_fraction*cc_feat_array.shape[0])\n",
    "cc_feat_label_reduced = cc_feat_label[0:n_tracts]\n",
    "\n",
    "cc_feat_array_reduced = cc_feat_array[0:n_tracts]\n",
    "\n",
    "h5_feat_label = h5py.File(\"/media/ang/Data/data/779370/CC_1_labels.h5\", 'w')\n",
    "h5_feat_label.create_dataset(\"/media/ang/Data/data/779370/CC_labels.h5\", data=cc_feat_label_reduced)\n",
    "h5_feat_label.close()\n",
    "\n",
    "h5_feat_array = h5py.File(\"/media/ang/Data/data/779370/CC_1_featMatrix.h5\", 'w')\n",
    "h5_feat_array.create_dataset(\"/media/ang/Data/data/779370/CC_1_featMatrix.h5\", data=cc_feat_array_reduced)\n",
    "h5_feat_array.close()"
   ]
  },
  {
   "cell_type": "code",
   "execution_count": 19,
   "metadata": {},
   "outputs": [
    {
     "data": {
      "text/plain": [
       "(699,)"
      ]
     },
     "execution_count": 19,
     "metadata": {},
     "output_type": "execute_result"
    }
   ],
   "source": [
    "cc_feat_label_reduced.shape"
   ]
  },
  {
   "cell_type": "code",
   "execution_count": 20,
   "metadata": {},
   "outputs": [
    {
     "name": "stdout",
     "output_type": "stream",
     "text": [
      "(2931,) (2931, 30, 30, 3)\n"
     ]
    }
   ],
   "source": [
    "# merge cc and AF (appending numpy array)\n",
    "\n",
    "feat_label = np.append(feat_label_reduced, cc_feat_label_reduced, axis=0)\n",
    "feat_array = np.append(feat_array_reduced, cc_feat_array_reduced, axis = 0)\n",
    "print(feat_label.shape, feat_array.shape)"
   ]
  },
  {
   "cell_type": "code",
   "execution_count": 37,
   "metadata": {},
   "outputs": [
    {
     "data": {
      "text/plain": [
       "array([(b'AF_right', 1, 1), (b'AF_right', 1, 1), (b'AF_right', 1, 1), ...,\n",
       "       (b'CC_1', 5, 5), (b'CC_1', 5, 5), (b'CC_1', 5, 5)],\n",
       "      dtype=[('label_names', 'S30'), ('label_values', '<i8'), ('label_array', '<i8')])"
      ]
     },
     "execution_count": 37,
     "metadata": {},
     "output_type": "execute_result"
    }
   ],
   "source": [
    "feat_label"
   ]
  },
  {
   "cell_type": "code",
   "execution_count": 32,
   "metadata": {},
   "outputs": [
    {
     "data": {
      "text/plain": [
       "array([b'AF_right', b'AF_right', b'AF_right', ..., b'CC_1', b'CC_1',\n",
       "       b'CC_1'], dtype='|S30')"
      ]
     },
     "execution_count": 32,
     "metadata": {},
     "output_type": "execute_result"
    }
   ],
   "source": [
    "feat_label['label_names']"
   ]
  },
  {
   "cell_type": "code",
   "execution_count": 36,
   "metadata": {},
   "outputs": [],
   "source": [
    "h5_feat_array.close()\n",
    "h5_feat_array = h5py.File(\"/media/ang/Data/data/779370/af_cc_featMatrix.h5\", 'w')\n",
    "h5_feat_array.create_dataset('feat', data=feat_array)\n",
    "h5_feat_array.close()\n",
    "\n",
    "h5_feat_label.close()\n",
    "h5_feat_label =  h5py.File(\"/media/ang/Data/data/779370/af_cc_label.h5\", 'w')\n",
    "h5_feat_label.create_dataset('label_array', data=feat_label['label_array'])# type: ignore\n",
    "h5_feat_label.create_dataset('label_values', data=feat_label['label_values'])  # type: ignore\n",
    "h5_feat_label.create_dataset('label_names', data=feat_label['label_names'])  # type: ignore\n",
    "\n",
    "h5_feat_label.close()"
   ]
  },
  {
   "cell_type": "code",
   "execution_count": null,
   "metadata": {},
   "outputs": [],
   "source": [
    "with h5py.File(\"/media/ang/Data/data/779370/af_cc_label.h5\", \"r\") as f:\n",
    "        # List all groups\n",
    "        print(\"Keys: %s\" % f.keys())\n",
    "        h_keys = list(f.keys())[0]\n",
    "        print(f[h_keys][()])\n",
    "\n",
    "        # Get the data\n",
    "        # data = list(f[h_keys])\n",
    "        # data = f.get('feat').value"
   ]
  },
  {
   "cell_type": "code",
   "execution_count": null,
   "metadata": {},
   "outputs": [],
   "source": [
    "with h5py.File(\"/home/ang/Documents/GitHub/DeepWMA/data/999999/999999_labels.h5\", \"r\") as f:\n",
    "        # List all groups\n",
    "        print(\"Keys: %s\" % f.keys())\n",
    "        h_keys = list(f.keys())[0]\n",
    "        print(f[h_keys])\n",
    "        data = list(f[h_keys])\n",
    "        print(data)\n"
   ]
  },
  {
   "cell_type": "code",
   "execution_count": null,
   "metadata": {},
   "outputs": [],
   "source": [
    "print(os.path.getsize('/media/ang/Data/data/779370/af_cc_featMatrix.h5')/(1024*1024))"
   ]
  },
  {
   "cell_type": "markdown",
   "metadata": {},
   "source": [
    "## labels\n",
    "\n",
    "1. after step 2 above\n",
    "2. combine the labels for each tract with limited fibers"
   ]
  }
 ],
 "metadata": {
  "kernelspec": {
   "display_name": "Python 3.6.10 ('SupWMA')",
   "language": "python",
   "name": "python3"
  },
  "language_info": {
   "codemirror_mode": {
    "name": "ipython",
    "version": 3
   },
   "file_extension": ".py",
   "mimetype": "text/x-python",
   "name": "python",
   "nbconvert_exporter": "python",
   "pygments_lexer": "ipython3",
   "version": "3.6.10"
  },
  "orig_nbformat": 4,
  "vscode": {
   "interpreter": {
    "hash": "36aec90b5a07fafc043f146ab1db38cbda9ca0590150a6d49f81c4cf72882f5a"
   }
  }
 },
 "nbformat": 4,
 "nbformat_minor": 2
}
