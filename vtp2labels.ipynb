{
 "cells": [
  {
   "cell_type": "markdown",
   "metadata": {},
   "source": [
    "## individual extract `tract_feat`"
   ]
  },
  {
   "cell_type": "markdown",
   "metadata": {},
   "source": [
    "## `label_names` and `label_array` \n",
    "1. `label_names` for each .vtp from its file name\n",
    "2. `label_array` for each `label_names` each `.vtp`\n",
    "3. merge `label_array` and `label_names` "
   ]
  },
  {
   "cell_type": "code",
   "execution_count": null,
   "metadata": {},
   "outputs": [],
   "source": []
  },
  {
   "cell_type": "markdown",
   "metadata": {},
   "source": [
    "## merge `feat_Matrix` in .h5 format"
   ]
  },
  {
   "cell_type": "code",
   "execution_count": null,
   "metadata": {},
   "outputs": [],
   "source": []
  },
  {
   "cell_type": "markdown",
   "metadata": {},
   "source": [
    "## merge `tract_feat` in a single .vtp \n",
    "1. merge `tract_feat` in the form of (20000, 30, 30, 3)\n",
    "2. feed to the model for training. \n"
   ]
  },
  {
   "cell_type": "markdown",
   "metadata": {},
   "source": []
  }
 ],
 "metadata": {
  "kernelspec": {
   "display_name": "Python 3.6.10 ('SupWMA')",
   "language": "python",
   "name": "python3"
  },
  "language_info": {
   "codemirror_mode": {
    "name": "ipython",
    "version": 3
   },
   "file_extension": ".py",
   "mimetype": "text/x-python",
   "name": "python",
   "nbconvert_exporter": "python",
   "pygments_lexer": "ipython3",
   "version": "3.6.10"
  },
  "orig_nbformat": 4,
  "vscode": {
   "interpreter": {
    "hash": "36aec90b5a07fafc043f146ab1db38cbda9ca0590150a6d49f81c4cf72882f5a"
   }
  }
 },
 "nbformat": 4,
 "nbformat_minor": 2
}
